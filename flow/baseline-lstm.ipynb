{
 "cells": [
  {
   "cell_type": "markdown",
   "id": "db33c7c4",
   "metadata": {
    "papermill": {
     "duration": 0.01721,
     "end_time": "2022-02-19T03:39:54.984448",
     "exception": false,
     "start_time": "2022-02-19T03:39:54.967238",
     "status": "completed"
    },
    "tags": []
   },
   "source": [
    "In this notebook, we formulate the task as classtical time series problem. Here we use LSTM for the time series forcasting. We use the features as the 4 hours and the label is next observation. we don't include other data like weather or holidays in the training .."
   ]
  },
  {
   "cell_type": "code",
   "execution_count": 1,
   "id": "af16fa38",
   "metadata": {
    "_cell_guid": "b1076dfc-b9ad-4769-8c92-a6c4dae69d19",
    "_uuid": "8f2839f25d086af736a60e9eeb907d3b93b6e0e5",
    "execution": {
     "iopub.execute_input": "2022-02-19T03:39:55.025750Z",
     "iopub.status.busy": "2022-02-19T03:39:55.024659Z",
     "iopub.status.idle": "2022-02-19T03:39:55.028202Z",
     "shell.execute_reply": "2022-02-19T03:39:55.028658Z",
     "shell.execute_reply.started": "2022-02-19T03:17:56.795103Z"
    },
    "papermill": {
     "duration": 0.027953,
     "end_time": "2022-02-19T03:39:55.028867",
     "exception": false,
     "start_time": "2022-02-19T03:39:55.000914",
     "status": "completed"
    },
    "tags": []
   },
   "outputs": [],
   "source": [
    "import numpy as np\n",
    "import pandas as pd"
   ]
  },
  {
   "cell_type": "code",
   "execution_count": 2,
   "id": "683c5e38",
   "metadata": {
    "execution": {
     "iopub.execute_input": "2022-02-19T03:39:55.062512Z",
     "iopub.status.busy": "2022-02-19T03:39:55.061749Z",
     "iopub.status.idle": "2022-02-19T03:39:58.785719Z",
     "shell.execute_reply": "2022-02-19T03:39:58.785126Z",
     "shell.execute_reply.started": "2022-02-19T03:17:56.820065Z"
    },
    "papermill": {
     "duration": 3.742554,
     "end_time": "2022-02-19T03:39:58.785864",
     "exception": false,
     "start_time": "2022-02-19T03:39:55.043310",
     "status": "completed"
    },
    "tags": []
   },
   "outputs": [
    {
     "name": "stdout",
     "output_type": "stream",
     "text": [
      "Cloning into 'ATFM'...\r\n",
      "remote: Enumerating objects: 83, done.\u001b[K\r\n",
      "remote: Total 83 (delta 0), reused 0 (delta 0), pack-reused 83\u001b[K\r\n",
      "Unpacking objects: 100% (83/83), 20.94 MiB | 9.32 MiB/s, done.\r\n"
     ]
    }
   ],
   "source": [
    "\"\"\"The Data is taken from the following repository\"\"\"\n",
    "!git clone https://github.com/liulingbo918/ATFM.git"
   ]
  },
  {
   "cell_type": "code",
   "execution_count": 3,
   "id": "63a9dc0b",
   "metadata": {
    "execution": {
     "iopub.execute_input": "2022-02-19T03:39:58.827756Z",
     "iopub.status.busy": "2022-02-19T03:39:58.826945Z",
     "iopub.status.idle": "2022-02-19T03:39:59.478137Z",
     "shell.execute_reply": "2022-02-19T03:39:59.477687Z",
     "shell.execute_reply.started": "2022-02-19T03:18:01.017606Z"
    },
    "papermill": {
     "duration": 0.673561,
     "end_time": "2022-02-19T03:39:59.478264",
     "exception": false,
     "start_time": "2022-02-19T03:39:58.804703",
     "status": "completed"
    },
    "tags": []
   },
   "outputs": [
    {
     "name": "stdout",
     "output_type": "stream",
     "text": [
      "Holiday.txt  Meteorology.h5  NYC2014.h5  README.md\r\n"
     ]
    }
   ],
   "source": [
    "\"\"\"The data consists of 3 components: in/outflow and Holidays and weather data\"\"\"\n",
    "!ls ./ATFM/data/TaxiNYC/"
   ]
  },
  {
   "cell_type": "code",
   "execution_count": 4,
   "id": "d6cd2d44",
   "metadata": {
    "execution": {
     "iopub.execute_input": "2022-02-19T03:39:59.521716Z",
     "iopub.status.busy": "2022-02-19T03:39:59.521106Z",
     "iopub.status.idle": "2022-02-19T03:39:59.660691Z",
     "shell.execute_reply": "2022-02-19T03:39:59.660180Z",
     "shell.execute_reply.started": "2022-02-19T03:18:01.685774Z"
    },
    "papermill": {
     "duration": 0.16404,
     "end_time": "2022-02-19T03:39:59.660825",
     "exception": false,
     "start_time": "2022-02-19T03:39:59.496785",
     "status": "completed"
    },
    "tags": []
   },
   "outputs": [],
   "source": [
    "import h5py\n",
    "\n",
    "def read_h5(filename):\n",
    "    data = {}\n",
    "    with h5py.File(filename, \"r\") as f:\n",
    "        # List all groups\n",
    "        a_group_key = list(f.keys())\n",
    "        # Get the data\n",
    "        for key in a_group_key:\n",
    "            data[key] = list(f[key])\n",
    "    return data"
   ]
  },
  {
   "cell_type": "code",
   "execution_count": 5,
   "id": "58ece6df",
   "metadata": {
    "execution": {
     "iopub.execute_input": "2022-02-19T03:39:59.706754Z",
     "iopub.status.busy": "2022-02-19T03:39:59.705837Z",
     "iopub.status.idle": "2022-02-19T03:40:02.711024Z",
     "shell.execute_reply": "2022-02-19T03:40:02.711478Z",
     "shell.execute_reply.started": "2022-02-19T03:18:01.838099Z"
    },
    "papermill": {
     "duration": 3.032347,
     "end_time": "2022-02-19T03:40:02.711637",
     "exception": false,
     "start_time": "2022-02-19T03:39:59.679290",
     "status": "completed"
    },
    "tags": []
   },
   "outputs": [
    {
     "data": {
      "text/plain": [
       "((17520, 2, 15, 5), (17520,))"
      ]
     },
     "execution_count": 5,
     "metadata": {},
     "output_type": "execute_result"
    }
   ],
   "source": [
    "\"\"\"read flow data\"\"\"\n",
    "flow_dir = \"./ATFM/data/TaxiNYC/NYC2014.h5\"\n",
    "data = read_h5(flow_dir)\n",
    "timeslot_data = np.array(data['date'])\n",
    "flow_data = np.array(data['data'])\n",
    "\n",
    "flow_data.shape, timeslot_data.shape"
   ]
  },
  {
   "cell_type": "code",
   "execution_count": 6,
   "id": "8e0e61d1",
   "metadata": {
    "execution": {
     "iopub.execute_input": "2022-02-19T03:40:02.761076Z",
     "iopub.status.busy": "2022-02-19T03:40:02.759390Z",
     "iopub.status.idle": "2022-02-19T03:40:07.975272Z",
     "shell.execute_reply": "2022-02-19T03:40:07.975917Z",
     "shell.execute_reply.started": "2022-02-19T03:18:04.827456Z"
    },
    "papermill": {
     "duration": 5.245246,
     "end_time": "2022-02-19T03:40:07.976103",
     "exception": false,
     "start_time": "2022-02-19T03:40:02.730857",
     "status": "completed"
    },
    "tags": []
   },
   "outputs": [
    {
     "name": "stdout",
     "output_type": "stream",
     "text": [
      "dict_keys(['Temperature', 'Weather', 'WindSpeed', 'date'])\n",
      "(17520, 1) (17520, 17) (17520, 1)\n"
     ]
    }
   ],
   "source": [
    "\"\"\"read weather data\"\"\"\n",
    "meteorology_data_dir = \"./ATFM/data/TaxiNYC/Meteorology.h5\"\n",
    "meteorology_data = read_h5(meteorology_data_dir)\n",
    "print(meteorology_data.keys())\n",
    "temp_data = np.array(meteorology_data['Temperature']).reshape(17520, 1)\n",
    "weather_data = np.array(meteorology_data['Weather'])\n",
    "windspeed_data = np.array(meteorology_data['WindSpeed']).reshape(17520, 1)\n",
    "date_data = np.array(meteorology_data['date']).reshape(17520, 1)\n",
    "print(date_data.shape, weather_data.shape, windspeed_data.shape)"
   ]
  },
  {
   "cell_type": "code",
   "execution_count": 7,
   "id": "aa764772",
   "metadata": {
    "execution": {
     "iopub.execute_input": "2022-02-19T03:40:08.021965Z",
     "iopub.status.busy": "2022-02-19T03:40:08.021059Z",
     "iopub.status.idle": "2022-02-19T03:40:08.026847Z",
     "shell.execute_reply": "2022-02-19T03:40:08.026403Z",
     "shell.execute_reply.started": "2022-02-19T03:18:09.936306Z"
    },
    "papermill": {
     "duration": 0.029863,
     "end_time": "2022-02-19T03:40:08.026962",
     "exception": false,
     "start_time": "2022-02-19T03:40:07.997099",
     "status": "completed"
    },
    "tags": []
   },
   "outputs": [
    {
     "data": {
      "text/plain": [
       "(17520, 19)"
      ]
     },
     "execution_count": 7,
     "metadata": {},
     "output_type": "execute_result"
    }
   ],
   "source": [
    "\"\"\"stack all weather data into one array\"\"\"\n",
    "met_data = np.hstack((temp_data, weather_data, windspeed_data))\n",
    "met_data.shape"
   ]
  },
  {
   "cell_type": "code",
   "execution_count": 8,
   "id": "732a29b0",
   "metadata": {
    "execution": {
     "iopub.execute_input": "2022-02-19T03:40:08.071237Z",
     "iopub.status.busy": "2022-02-19T03:40:08.070353Z",
     "iopub.status.idle": "2022-02-19T03:40:08.095048Z",
     "shell.execute_reply": "2022-02-19T03:40:08.094560Z",
     "shell.execute_reply.started": "2022-02-19T03:18:09.946819Z"
    },
    "papermill": {
     "duration": 0.048656,
     "end_time": "2022-02-19T03:40:08.095272",
     "exception": false,
     "start_time": "2022-02-19T03:40:08.046616",
     "status": "completed"
    },
    "tags": []
   },
   "outputs": [],
   "source": [
    "\"\"\"Standardize the data\"\"\"\n",
    "mean = np.mean(flow_data)\n",
    "std = np.std(flow_data)\n",
    "\n",
    "flow_data_std = (flow_data-mean)/std"
   ]
  },
  {
   "cell_type": "code",
   "execution_count": 9,
   "id": "f3ee2f21",
   "metadata": {
    "execution": {
     "iopub.execute_input": "2022-02-19T03:40:08.142836Z",
     "iopub.status.busy": "2022-02-19T03:40:08.142000Z",
     "iopub.status.idle": "2022-02-19T03:40:08.143998Z",
     "shell.execute_reply": "2022-02-19T03:40:08.144396Z",
     "shell.execute_reply.started": "2022-02-19T03:18:09.978958Z"
    },
    "papermill": {
     "duration": 0.029235,
     "end_time": "2022-02-19T03:40:08.144544",
     "exception": false,
     "start_time": "2022-02-19T03:40:08.115309",
     "status": "completed"
    },
    "tags": []
   },
   "outputs": [],
   "source": [
    "def buid_data(flow_data, x_len, y_len):\n",
    "    x_flow = []\n",
    "    y = []\n",
    "    length = flow_data.shape[0]\n",
    "    for end_idx in range(x_len + y_len, length):\n",
    "        xtime = flow_data[end_idx-y_len-x_len:end_idx-y_len]\n",
    "        ytime = flow_data[end_idx-y_len:end_idx]\n",
    "        x_flow.append(xtime)\n",
    "        y.append(ytime)\n",
    "    x_flow = np.stack(x_flow)\n",
    "    y = np.stack(y)\n",
    "    return x_flow, y"
   ]
  },
  {
   "cell_type": "code",
   "execution_count": 10,
   "id": "5fa46712",
   "metadata": {
    "execution": {
     "iopub.execute_input": "2022-02-19T03:40:08.230814Z",
     "iopub.status.busy": "2022-02-19T03:40:08.197039Z",
     "iopub.status.idle": "2022-02-19T03:40:08.316262Z",
     "shell.execute_reply": "2022-02-19T03:40:08.316721Z",
     "shell.execute_reply.started": "2022-02-19T03:18:09.990955Z"
    },
    "papermill": {
     "duration": 0.152287,
     "end_time": "2022-02-19T03:40:08.316875",
     "exception": false,
     "start_time": "2022-02-19T03:40:08.164588",
     "status": "completed"
    },
    "tags": []
   },
   "outputs": [
    {
     "name": "stdout",
     "output_type": "stream",
     "text": [
      "(17511, 1, 2, 15, 5)\n",
      "(17511, 8, 2, 15, 5)\n",
      "Train: (920925, 8, 2) (920925, 2)\n",
      "Test: (302400, 8, 2) (302400, 2)\n",
      "Val: (90000, 8, 2) (90000, 2)\n"
     ]
    }
   ],
   "source": [
    "\"\"\"Build data and train test split\"\"\"\n",
    "x_len = 4 * 2  # 4 hours X 2 (data recorded each 30minutes)\n",
    "y_len = 1  # next step\n",
    "x_flow, y = buid_data(flow_data_std, x_len, y_len)\n",
    "print(y.shape)\n",
    "print(x_flow.shape)\n",
    "\n",
    "xtrain = x_flow[:12279]\n",
    "ytrain = y[:12279]\n",
    "\n",
    "xval = x_flow[12279:13479]\n",
    "yval = y[12279:13479]\n",
    "\n",
    "xtest = x_flow[13479:]\n",
    "ytest = y[13479:]\n",
    "\n",
    "xtrain = xtrain.reshape(xtrain.shape[0]*5*15, 8, 2)\n",
    "xval = xval.reshape(xval.shape[0]*5*15, 8, 2)\n",
    "xtest = xtest.reshape(xtest.shape[0]*5*15, 8, 2)\n",
    "ytrain = ytrain.reshape(ytrain.shape[0]*5*15, 2)\n",
    "ytest = ytest.reshape(ytest.shape[0]*5*15, 2)\n",
    "yval = yval.reshape(yval.shape[0]*5*15, 2)\n",
    "\n",
    "print('Train:',xtrain.shape, ytrain.shape)\n",
    "print('Test:',xtest.shape, ytest.shape)\n",
    "print('Val:',xval.shape, yval.shape)"
   ]
  },
  {
   "cell_type": "code",
   "execution_count": 11,
   "id": "95a0c911",
   "metadata": {
    "execution": {
     "iopub.execute_input": "2022-02-19T03:40:08.377499Z",
     "iopub.status.busy": "2022-02-19T03:40:08.376568Z",
     "iopub.status.idle": "2022-02-19T03:40:15.902583Z",
     "shell.execute_reply": "2022-02-19T03:40:15.903893Z",
     "shell.execute_reply.started": "2022-02-19T03:18:10.128731Z"
    },
    "papermill": {
     "duration": 7.567072,
     "end_time": "2022-02-19T03:40:15.904150",
     "exception": false,
     "start_time": "2022-02-19T03:40:08.337078",
     "status": "completed"
    },
    "tags": []
   },
   "outputs": [
    {
     "name": "stderr",
     "output_type": "stream",
     "text": [
      "2022-02-19 03:40:13.460428: I tensorflow/stream_executor/cuda/cuda_gpu_executor.cc:937] successful NUMA node read from SysFS had negative value (-1), but there must be at least one NUMA node, so returning NUMA node zero\n",
      "2022-02-19 03:40:13.561204: I tensorflow/stream_executor/cuda/cuda_gpu_executor.cc:937] successful NUMA node read from SysFS had negative value (-1), but there must be at least one NUMA node, so returning NUMA node zero\n",
      "2022-02-19 03:40:13.561970: I tensorflow/stream_executor/cuda/cuda_gpu_executor.cc:937] successful NUMA node read from SysFS had negative value (-1), but there must be at least one NUMA node, so returning NUMA node zero\n",
      "2022-02-19 03:40:13.563213: I tensorflow/core/platform/cpu_feature_guard.cc:142] This TensorFlow binary is optimized with oneAPI Deep Neural Network Library (oneDNN) to use the following CPU instructions in performance-critical operations:  AVX2 AVX512F FMA\n",
      "To enable them in other operations, rebuild TensorFlow with the appropriate compiler flags.\n",
      "2022-02-19 03:40:13.564016: I tensorflow/stream_executor/cuda/cuda_gpu_executor.cc:937] successful NUMA node read from SysFS had negative value (-1), but there must be at least one NUMA node, so returning NUMA node zero\n",
      "2022-02-19 03:40:13.564964: I tensorflow/stream_executor/cuda/cuda_gpu_executor.cc:937] successful NUMA node read from SysFS had negative value (-1), but there must be at least one NUMA node, so returning NUMA node zero\n",
      "2022-02-19 03:40:13.565817: I tensorflow/stream_executor/cuda/cuda_gpu_executor.cc:937] successful NUMA node read from SysFS had negative value (-1), but there must be at least one NUMA node, so returning NUMA node zero\n",
      "2022-02-19 03:40:15.384149: I tensorflow/stream_executor/cuda/cuda_gpu_executor.cc:937] successful NUMA node read from SysFS had negative value (-1), but there must be at least one NUMA node, so returning NUMA node zero\n",
      "2022-02-19 03:40:15.384944: I tensorflow/stream_executor/cuda/cuda_gpu_executor.cc:937] successful NUMA node read from SysFS had negative value (-1), but there must be at least one NUMA node, so returning NUMA node zero\n",
      "2022-02-19 03:40:15.385580: I tensorflow/stream_executor/cuda/cuda_gpu_executor.cc:937] successful NUMA node read from SysFS had negative value (-1), but there must be at least one NUMA node, so returning NUMA node zero\n",
      "2022-02-19 03:40:15.386148: I tensorflow/core/common_runtime/gpu/gpu_device.cc:1510] Created device /job:localhost/replica:0/task:0/device:GPU:0 with 15403 MB memory:  -> device: 0, name: Tesla P100-PCIE-16GB, pci bus id: 0000:00:04.0, compute capability: 6.0\n"
     ]
    }
   ],
   "source": [
    "from tensorflow.keras.models import Sequential\n",
    "from tensorflow.keras.layers import LSTM\n",
    "from tensorflow.keras.layers import Dense\n",
    "\n",
    "n_steps = 8 # number of time steps\n",
    "n_features = 2 # inflows and outflows\n",
    "model = Sequential()\n",
    "model.add(LSTM(128, activation='relu', return_sequences=True, input_shape=(n_steps, n_features)))\n",
    "model.add(LSTM(64, activation='relu'))\n",
    "model.add(Dense(2))\n",
    "model.compile(optimizer='adam', loss='mse')"
   ]
  },
  {
   "cell_type": "code",
   "execution_count": 12,
   "id": "4f3a10df",
   "metadata": {
    "execution": {
     "iopub.execute_input": "2022-02-19T03:40:15.966749Z",
     "iopub.status.busy": "2022-02-19T03:40:15.965722Z",
     "iopub.status.idle": "2022-02-19T03:40:15.969631Z",
     "shell.execute_reply": "2022-02-19T03:40:15.970010Z",
     "shell.execute_reply.started": "2022-02-19T03:18:17.556268Z"
    },
    "papermill": {
     "duration": 0.032214,
     "end_time": "2022-02-19T03:40:15.970157",
     "exception": false,
     "start_time": "2022-02-19T03:40:15.937943",
     "status": "completed"
    },
    "tags": []
   },
   "outputs": [
    {
     "name": "stdout",
     "output_type": "stream",
     "text": [
      "Model: \"sequential\"\n",
      "_________________________________________________________________\n",
      "Layer (type)                 Output Shape              Param #   \n",
      "=================================================================\n",
      "lstm (LSTM)                  (None, 8, 128)            67072     \n",
      "_________________________________________________________________\n",
      "lstm_1 (LSTM)                (None, 64)                49408     \n",
      "_________________________________________________________________\n",
      "dense (Dense)                (None, 2)                 130       \n",
      "=================================================================\n",
      "Total params: 116,610\n",
      "Trainable params: 116,610\n",
      "Non-trainable params: 0\n",
      "_________________________________________________________________\n"
     ]
    }
   ],
   "source": [
    "model.summary()"
   ]
  },
  {
   "cell_type": "code",
   "execution_count": 13,
   "id": "3dd94adf",
   "metadata": {
    "execution": {
     "iopub.execute_input": "2022-02-19T03:40:16.016326Z",
     "iopub.status.busy": "2022-02-19T03:40:16.015675Z",
     "iopub.status.idle": "2022-02-19T07:06:39.824116Z",
     "shell.execute_reply": "2022-02-19T07:06:39.824579Z",
     "shell.execute_reply.started": "2022-02-19T03:18:17.565972Z"
    },
    "papermill": {
     "duration": 12383.834076,
     "end_time": "2022-02-19T07:06:39.824757",
     "exception": false,
     "start_time": "2022-02-19T03:40:15.990681",
     "status": "completed"
    },
    "tags": []
   },
   "outputs": [
    {
     "name": "stderr",
     "output_type": "stream",
     "text": [
      "2022-02-19 03:40:16.195284: I tensorflow/compiler/mlir/mlir_graph_optimization_pass.cc:185] None of the MLIR Optimization Passes are enabled (registered 2)\n"
     ]
    },
    {
     "name": "stdout",
     "output_type": "stream",
     "text": [
      "Epoch 1/200\n",
      "1799/1799 [==============================] - 62s 33ms/step - loss: 0.4719 - val_loss: 0.2758\n",
      "Epoch 2/200\n",
      "1799/1799 [==============================] - 57s 32ms/step - loss: 0.2474 - val_loss: 0.2198\n",
      "Epoch 3/200\n",
      "1799/1799 [==============================] - 59s 33ms/step - loss: 0.1865 - val_loss: 0.1604\n",
      "Epoch 4/200\n",
      "1799/1799 [==============================] - 61s 34ms/step - loss: 0.1550 - val_loss: 0.1382\n",
      "Epoch 5/200\n",
      "1799/1799 [==============================] - 61s 34ms/step - loss: 0.1389 - val_loss: 0.1291\n",
      "Epoch 6/200\n",
      "1799/1799 [==============================] - 61s 34ms/step - loss: 0.1276 - val_loss: 0.1217\n",
      "Epoch 7/200\n",
      "1799/1799 [==============================] - 60s 33ms/step - loss: 0.1194 - val_loss: 0.1114\n",
      "Epoch 8/200\n",
      "1799/1799 [==============================] - 63s 35ms/step - loss: 0.1135 - val_loss: 0.1136\n",
      "Epoch 9/200\n",
      "1799/1799 [==============================] - 61s 34ms/step - loss: 0.1078 - val_loss: 0.1202\n",
      "Epoch 10/200\n",
      "1799/1799 [==============================] - 61s 34ms/step - loss: 0.1037 - val_loss: 0.1003\n",
      "Epoch 11/200\n",
      "1799/1799 [==============================] - 61s 34ms/step - loss: 0.1006 - val_loss: 0.1029\n",
      "Epoch 12/200\n",
      "1799/1799 [==============================] - 62s 34ms/step - loss: 0.0973 - val_loss: 0.1017\n",
      "Epoch 13/200\n",
      "1799/1799 [==============================] - 62s 35ms/step - loss: 0.0946 - val_loss: 0.1011\n",
      "Epoch 14/200\n",
      "1799/1799 [==============================] - 58s 32ms/step - loss: 0.0922 - val_loss: 0.0965\n",
      "Epoch 15/200\n",
      "1799/1799 [==============================] - 61s 34ms/step - loss: 0.0905 - val_loss: 0.0923\n",
      "Epoch 16/200\n",
      "1799/1799 [==============================] - 63s 35ms/step - loss: 0.0885 - val_loss: 0.0906\n",
      "Epoch 17/200\n",
      "1799/1799 [==============================] - 64s 36ms/step - loss: 0.0870 - val_loss: 0.0899\n",
      "Epoch 18/200\n",
      "1799/1799 [==============================] - 57s 32ms/step - loss: 0.0854 - val_loss: 0.0872\n",
      "Epoch 19/200\n",
      "1799/1799 [==============================] - 64s 36ms/step - loss: 0.0845 - val_loss: 0.0886\n",
      "Epoch 20/200\n",
      "1799/1799 [==============================] - 58s 32ms/step - loss: 0.0831 - val_loss: 0.0849\n",
      "Epoch 21/200\n",
      "1799/1799 [==============================] - 64s 35ms/step - loss: 0.0822 - val_loss: 0.0868\n",
      "Epoch 22/200\n",
      "1799/1799 [==============================] - 59s 33ms/step - loss: 0.0808 - val_loss: 0.0939\n",
      "Epoch 23/200\n",
      "1799/1799 [==============================] - 57s 32ms/step - loss: 0.0800 - val_loss: 0.0837\n",
      "Epoch 24/200\n",
      "1799/1799 [==============================] - 66s 37ms/step - loss: 0.0792 - val_loss: 0.0879\n",
      "Epoch 25/200\n",
      "1799/1799 [==============================] - 56s 31ms/step - loss: 0.0784 - val_loss: 0.0833\n",
      "Epoch 26/200\n",
      "1799/1799 [==============================] - 67s 37ms/step - loss: 0.0777 - val_loss: 0.0830\n",
      "Epoch 27/200\n",
      "1799/1799 [==============================] - 57s 32ms/step - loss: 0.0770 - val_loss: 0.0869\n",
      "Epoch 28/200\n",
      "1799/1799 [==============================] - 66s 37ms/step - loss: 0.0763 - val_loss: 0.0826\n",
      "Epoch 29/200\n",
      "1799/1799 [==============================] - 59s 33ms/step - loss: 0.0758 - val_loss: 0.0787\n",
      "Epoch 30/200\n",
      "1799/1799 [==============================] - 57s 32ms/step - loss: 0.0756 - val_loss: 0.0832\n",
      "Epoch 31/200\n",
      "1799/1799 [==============================] - 69s 38ms/step - loss: 0.0750 - val_loss: 0.0820\n",
      "Epoch 32/200\n",
      "1799/1799 [==============================] - 57s 32ms/step - loss: 0.0742 - val_loss: 0.0833\n",
      "Epoch 33/200\n",
      "1799/1799 [==============================] - 71s 40ms/step - loss: 0.0737 - val_loss: 0.0780\n",
      "Epoch 34/200\n",
      "1799/1799 [==============================] - 56s 31ms/step - loss: 0.0732 - val_loss: 0.0808\n",
      "Epoch 35/200\n",
      "1799/1799 [==============================] - 65s 36ms/step - loss: 0.0729 - val_loss: 0.0823\n",
      "Epoch 36/200\n",
      "1799/1799 [==============================] - 62s 35ms/step - loss: 0.0723 - val_loss: 0.0806\n",
      "Epoch 37/200\n",
      "1799/1799 [==============================] - 57s 32ms/step - loss: 0.0720 - val_loss: 0.0810\n",
      "Epoch 38/200\n",
      "1799/1799 [==============================] - 71s 40ms/step - loss: 0.0718 - val_loss: 0.0798\n",
      "Epoch 39/200\n",
      "1799/1799 [==============================] - 57s 32ms/step - loss: 0.0711 - val_loss: 0.0817\n",
      "Epoch 40/200\n",
      "1799/1799 [==============================] - 58s 32ms/step - loss: 0.0708 - val_loss: 0.0817\n",
      "Epoch 41/200\n",
      "1799/1799 [==============================] - 57s 31ms/step - loss: 0.0707 - val_loss: 0.0798\n",
      "Epoch 42/200\n",
      "1799/1799 [==============================] - 72s 40ms/step - loss: 0.0698 - val_loss: 0.0779\n",
      "Epoch 43/200\n",
      "1799/1799 [==============================] - 59s 33ms/step - loss: 0.0699 - val_loss: 0.0793\n",
      "Epoch 44/200\n",
      "1799/1799 [==============================] - 57s 32ms/step - loss: 0.0698 - val_loss: 0.0818\n",
      "Epoch 45/200\n",
      "1799/1799 [==============================] - 57s 32ms/step - loss: 0.0694 - val_loss: 0.0790\n",
      "Epoch 46/200\n",
      "1799/1799 [==============================] - 57s 32ms/step - loss: 0.0691 - val_loss: 0.0805\n",
      "Epoch 47/200\n",
      "1799/1799 [==============================] - 77s 43ms/step - loss: 0.0689 - val_loss: 0.0788\n",
      "Epoch 48/200\n",
      "1799/1799 [==============================] - 57s 32ms/step - loss: 0.0686 - val_loss: 0.0822\n",
      "Epoch 49/200\n",
      "1799/1799 [==============================] - 58s 32ms/step - loss: 0.0682 - val_loss: 0.0762\n",
      "Epoch 50/200\n",
      "1799/1799 [==============================] - 57s 32ms/step - loss: 0.0680 - val_loss: 0.0777\n",
      "Epoch 51/200\n",
      "1799/1799 [==============================] - 67s 37ms/step - loss: 0.0678 - val_loss: 0.0802\n",
      "Epoch 52/200\n",
      "1799/1799 [==============================] - 68s 38ms/step - loss: 0.0674 - val_loss: 0.0782\n",
      "Epoch 53/200\n",
      "1799/1799 [==============================] - 57s 32ms/step - loss: 0.0674 - val_loss: 0.0806\n",
      "Epoch 54/200\n",
      "1799/1799 [==============================] - 58s 32ms/step - loss: 0.0671 - val_loss: 0.0777\n",
      "Epoch 55/200\n",
      "1799/1799 [==============================] - 59s 33ms/step - loss: 0.0668 - val_loss: 0.0806\n",
      "Epoch 56/200\n",
      "1799/1799 [==============================] - 79s 44ms/step - loss: 0.0667 - val_loss: 0.0801\n",
      "Epoch 57/200\n",
      "1799/1799 [==============================] - 57s 32ms/step - loss: 0.0666 - val_loss: 0.0803\n",
      "Epoch 58/200\n",
      "1799/1799 [==============================] - 57s 32ms/step - loss: 0.0663 - val_loss: 0.0771\n",
      "Epoch 59/200\n",
      "1799/1799 [==============================] - 57s 32ms/step - loss: 0.0660 - val_loss: 0.0781\n",
      "Epoch 60/200\n",
      "1799/1799 [==============================] - 58s 32ms/step - loss: 0.0658 - val_loss: 0.0779\n",
      "Epoch 61/200\n",
      "1799/1799 [==============================] - 82s 46ms/step - loss: 0.0657 - val_loss: 0.0791\n",
      "Epoch 62/200\n",
      "1799/1799 [==============================] - 57s 31ms/step - loss: 0.0652 - val_loss: 0.0785\n",
      "Epoch 63/200\n",
      "1799/1799 [==============================] - 57s 32ms/step - loss: 0.0653 - val_loss: 0.0781\n",
      "Epoch 64/200\n",
      "1799/1799 [==============================] - 57s 32ms/step - loss: 0.0650 - val_loss: 0.0745\n",
      "Epoch 65/200\n",
      "1799/1799 [==============================] - 71s 39ms/step - loss: 0.0648 - val_loss: 0.0788\n",
      "Epoch 66/200\n",
      "1799/1799 [==============================] - 69s 38ms/step - loss: 0.0647 - val_loss: 0.0801\n",
      "Epoch 67/200\n",
      "1799/1799 [==============================] - 57s 32ms/step - loss: 0.0647 - val_loss: 0.0771\n",
      "Epoch 68/200\n",
      "1799/1799 [==============================] - 57s 32ms/step - loss: 0.0644 - val_loss: 0.0784\n",
      "Epoch 69/200\n",
      "1799/1799 [==============================] - 57s 32ms/step - loss: 0.0642 - val_loss: 0.0793\n",
      "Epoch 70/200\n",
      "1799/1799 [==============================] - 85s 48ms/step - loss: 0.0640 - val_loss: 0.0775\n",
      "Epoch 71/200\n",
      "1799/1799 [==============================] - 57s 32ms/step - loss: 0.0640 - val_loss: 0.0778\n",
      "Epoch 72/200\n",
      "1799/1799 [==============================] - 57s 31ms/step - loss: 0.0637 - val_loss: 0.0770\n",
      "Epoch 73/200\n",
      "1799/1799 [==============================] - 56s 31ms/step - loss: 0.0634 - val_loss: 0.0765\n",
      "Epoch 74/200\n",
      "1799/1799 [==============================] - 57s 32ms/step - loss: 0.0635 - val_loss: 0.0767\n",
      "Epoch 75/200\n",
      "1799/1799 [==============================] - 89s 49ms/step - loss: 0.0633 - val_loss: 0.0782\n",
      "Epoch 76/200\n",
      "1799/1799 [==============================] - 58s 32ms/step - loss: 0.0631 - val_loss: 0.0773\n",
      "Epoch 77/200\n",
      "1799/1799 [==============================] - 57s 32ms/step - loss: 0.0629 - val_loss: 0.0777\n",
      "Epoch 78/200\n",
      "1799/1799 [==============================] - 57s 32ms/step - loss: 0.0630 - val_loss: 0.0773\n",
      "Epoch 79/200\n",
      "1799/1799 [==============================] - 57s 32ms/step - loss: 0.0627 - val_loss: 0.0772\n",
      "Epoch 80/200\n",
      "1799/1799 [==============================] - 57s 32ms/step - loss: 0.0625 - val_loss: 0.0770\n",
      "Epoch 81/200\n",
      "1799/1799 [==============================] - 57s 32ms/step - loss: 0.0624 - val_loss: 0.0776\n",
      "Epoch 82/200\n",
      "1799/1799 [==============================] - 57s 32ms/step - loss: 0.0623 - val_loss: 0.0810\n",
      "Epoch 83/200\n",
      "1799/1799 [==============================] - 58s 32ms/step - loss: 0.0621 - val_loss: 0.0774\n",
      "Epoch 84/200\n",
      "1799/1799 [==============================] - 92s 51ms/step - loss: 0.0621 - val_loss: 0.0758\n",
      "Epoch 85/200\n",
      "1799/1799 [==============================] - 57s 32ms/step - loss: 0.0620 - val_loss: 0.0764\n",
      "Epoch 86/200\n",
      "1799/1799 [==============================] - 58s 32ms/step - loss: 0.0618 - val_loss: 0.0743\n",
      "Epoch 87/200\n",
      "1799/1799 [==============================] - 58s 32ms/step - loss: 0.0616 - val_loss: 0.0779\n",
      "Epoch 88/200\n",
      "1799/1799 [==============================] - 56s 31ms/step - loss: 0.0615 - val_loss: 0.0786\n",
      "Epoch 89/200\n",
      "1799/1799 [==============================] - 58s 32ms/step - loss: 0.0614 - val_loss: 0.0785\n",
      "Epoch 90/200\n",
      "1799/1799 [==============================] - 57s 32ms/step - loss: 0.0612 - val_loss: 0.0754\n",
      "Epoch 91/200\n",
      "1799/1799 [==============================] - 57s 32ms/step - loss: 0.0611 - val_loss: 0.0781\n",
      "Epoch 92/200\n",
      "1799/1799 [==============================] - 56s 31ms/step - loss: 0.0609 - val_loss: 0.0777\n",
      "Epoch 93/200\n",
      "1799/1799 [==============================] - 93s 51ms/step - loss: 0.0610 - val_loss: 0.0773\n",
      "Epoch 94/200\n",
      "1799/1799 [==============================] - 60s 33ms/step - loss: 0.0608 - val_loss: 0.0779\n",
      "Epoch 95/200\n",
      "1799/1799 [==============================] - 57s 32ms/step - loss: 0.0606 - val_loss: 0.0783\n",
      "Epoch 96/200\n",
      "1799/1799 [==============================] - 57s 32ms/step - loss: 0.0606 - val_loss: 0.0784\n",
      "Epoch 97/200\n",
      "1799/1799 [==============================] - 56s 31ms/step - loss: 0.0604 - val_loss: 0.0776\n",
      "Epoch 98/200\n",
      "1799/1799 [==============================] - 57s 32ms/step - loss: 0.0603 - val_loss: 0.0758\n",
      "Epoch 99/200\n",
      "1799/1799 [==============================] - 58s 32ms/step - loss: 0.0601 - val_loss: 0.0766\n",
      "Epoch 100/200\n",
      "1799/1799 [==============================] - 57s 32ms/step - loss: 0.0600 - val_loss: 0.0779\n",
      "Epoch 101/200\n",
      "1799/1799 [==============================] - 57s 32ms/step - loss: 0.0600 - val_loss: 0.0783\n",
      "Epoch 102/200\n",
      "1799/1799 [==============================] - 89s 49ms/step - loss: 0.0598 - val_loss: 0.0762\n",
      "Epoch 103/200\n",
      "1799/1799 [==============================] - 68s 38ms/step - loss: 0.0597 - val_loss: 0.0754\n",
      "Epoch 104/200\n",
      "1799/1799 [==============================] - 58s 32ms/step - loss: 0.0597 - val_loss: 0.0768\n",
      "Epoch 105/200\n",
      "1799/1799 [==============================] - 57s 32ms/step - loss: 0.0595 - val_loss: 0.0761\n",
      "Epoch 106/200\n",
      "1799/1799 [==============================] - 56s 31ms/step - loss: 0.0595 - val_loss: 0.0769\n",
      "Epoch 107/200\n",
      "1799/1799 [==============================] - 57s 31ms/step - loss: 0.0593 - val_loss: 0.0774\n",
      "Epoch 108/200\n",
      "1799/1799 [==============================] - 57s 32ms/step - loss: 0.0593 - val_loss: 0.0763\n",
      "Epoch 109/200\n",
      "1799/1799 [==============================] - 57s 32ms/step - loss: 0.0590 - val_loss: 0.0759\n",
      "Epoch 110/200\n",
      "1799/1799 [==============================] - 57s 32ms/step - loss: 0.0588 - val_loss: 0.0792\n",
      "Epoch 111/200\n",
      "1799/1799 [==============================] - 79s 44ms/step - loss: 0.0588 - val_loss: 0.0785\n",
      "Epoch 112/200\n",
      "1799/1799 [==============================] - 81s 45ms/step - loss: 0.0587 - val_loss: 0.0766\n",
      "Epoch 113/200\n",
      "1799/1799 [==============================] - 57s 32ms/step - loss: 0.0586 - val_loss: 0.0754\n",
      "Epoch 114/200\n",
      "1799/1799 [==============================] - 58s 32ms/step - loss: 0.0586 - val_loss: 0.0756\n",
      "Epoch 115/200\n",
      "1799/1799 [==============================] - 58s 32ms/step - loss: 0.0585 - val_loss: 0.0746\n",
      "Epoch 116/200\n",
      "1799/1799 [==============================] - 57s 32ms/step - loss: 0.0583 - val_loss: 0.0746\n",
      "Epoch 117/200\n",
      "1799/1799 [==============================] - 57s 32ms/step - loss: 0.0582 - val_loss: 0.0787\n",
      "Epoch 118/200\n",
      "1799/1799 [==============================] - 58s 32ms/step - loss: 0.0581 - val_loss: 0.0775\n",
      "Epoch 119/200\n",
      "1799/1799 [==============================] - 58s 32ms/step - loss: 0.0583 - val_loss: 0.0768\n",
      "Epoch 120/200\n",
      "1799/1799 [==============================] - 66s 37ms/step - loss: 0.0580 - val_loss: 0.0766\n",
      "Epoch 121/200\n",
      "1799/1799 [==============================] - 100s 55ms/step - loss: 0.0577 - val_loss: 0.0794\n",
      "Epoch 122/200\n",
      "1799/1799 [==============================] - 56s 31ms/step - loss: 0.0577 - val_loss: 0.0755\n",
      "Epoch 123/200\n",
      "1799/1799 [==============================] - 57s 32ms/step - loss: 0.0576 - val_loss: 0.0784\n",
      "Epoch 124/200\n",
      "1799/1799 [==============================] - 58s 32ms/step - loss: 0.0577 - val_loss: 0.0774\n",
      "Epoch 125/200\n",
      "1799/1799 [==============================] - 56s 31ms/step - loss: 0.0576 - val_loss: 0.0789\n",
      "Epoch 126/200\n",
      "1799/1799 [==============================] - 58s 32ms/step - loss: 0.0572 - val_loss: 0.0795\n",
      "Epoch 127/200\n",
      "1799/1799 [==============================] - 57s 32ms/step - loss: 0.0571 - val_loss: 0.0767\n",
      "Epoch 128/200\n",
      "1799/1799 [==============================] - 57s 32ms/step - loss: 0.0572 - val_loss: 0.0757\n",
      "Epoch 129/200\n",
      "1799/1799 [==============================] - 57s 32ms/step - loss: 0.0572 - val_loss: 0.0775\n",
      "Epoch 130/200\n",
      "1799/1799 [==============================] - 94s 52ms/step - loss: 0.0569 - val_loss: 0.0772\n",
      "Epoch 131/200\n",
      "1799/1799 [==============================] - 75s 42ms/step - loss: 0.0569 - val_loss: 0.0787\n",
      "Epoch 132/200\n",
      "1799/1799 [==============================] - 57s 32ms/step - loss: 0.0568 - val_loss: 0.0749\n",
      "Epoch 133/200\n",
      "1799/1799 [==============================] - 57s 32ms/step - loss: 0.0569 - val_loss: 0.0773\n",
      "Epoch 134/200\n",
      "1799/1799 [==============================] - 58s 32ms/step - loss: 0.0566 - val_loss: 0.0772\n",
      "Epoch 135/200\n",
      "1799/1799 [==============================] - 58s 32ms/step - loss: 0.0567 - val_loss: 0.0757\n",
      "Epoch 136/200\n",
      "1799/1799 [==============================] - 57s 32ms/step - loss: 0.0564 - val_loss: 0.0791\n",
      "Epoch 137/200\n",
      "1799/1799 [==============================] - 57s 32ms/step - loss: 0.0566 - val_loss: 0.0783\n",
      "Epoch 138/200\n",
      "1799/1799 [==============================] - 57s 32ms/step - loss: 0.0564 - val_loss: 0.0788\n",
      "Epoch 139/200\n",
      "1799/1799 [==============================] - 75s 42ms/step - loss: 0.0564 - val_loss: 0.0795\n",
      "Epoch 140/200\n",
      "1799/1799 [==============================] - 99s 55ms/step - loss: 0.0561 - val_loss: 0.0772\n",
      "Epoch 141/200\n",
      "1799/1799 [==============================] - 58s 32ms/step - loss: 0.0561 - val_loss: 0.0801\n",
      "Epoch 142/200\n",
      "1799/1799 [==============================] - 57s 32ms/step - loss: 0.0561 - val_loss: 0.0775\n",
      "Epoch 143/200\n",
      "1799/1799 [==============================] - 57s 32ms/step - loss: 0.0558 - val_loss: 0.0786\n",
      "Epoch 144/200\n",
      "1799/1799 [==============================] - 57s 31ms/step - loss: 0.0557 - val_loss: 0.0786\n",
      "Epoch 145/200\n",
      "1799/1799 [==============================] - 57s 32ms/step - loss: 0.0559 - val_loss: 0.0782\n",
      "Epoch 146/200\n",
      "1799/1799 [==============================] - 57s 32ms/step - loss: 0.0557 - val_loss: 0.0783\n",
      "Epoch 147/200\n",
      "1799/1799 [==============================] - 57s 32ms/step - loss: 0.0554 - val_loss: 0.0774\n",
      "Epoch 148/200\n",
      "1799/1799 [==============================] - 57s 32ms/step - loss: 0.0553 - val_loss: 0.0781\n",
      "Epoch 149/200\n",
      "1799/1799 [==============================] - 57s 32ms/step - loss: 0.0554 - val_loss: 0.0778\n",
      "Epoch 150/200\n",
      "1799/1799 [==============================] - 57s 32ms/step - loss: 0.0553 - val_loss: 0.0757\n",
      "Epoch 151/200\n",
      "1799/1799 [==============================] - 57s 32ms/step - loss: 0.0551 - val_loss: 0.0786\n",
      "Epoch 152/200\n",
      "1799/1799 [==============================] - 58s 32ms/step - loss: 0.0553 - val_loss: 0.0808\n",
      "Epoch 153/200\n",
      "1799/1799 [==============================] - 57s 32ms/step - loss: 0.0550 - val_loss: 0.0773\n",
      "Epoch 154/200\n",
      "1799/1799 [==============================] - 57s 32ms/step - loss: 0.0549 - val_loss: 0.0764\n",
      "Epoch 155/200\n",
      "1799/1799 [==============================] - 57s 32ms/step - loss: 0.0550 - val_loss: 0.0782\n",
      "Epoch 156/200\n",
      "1799/1799 [==============================] - 58s 32ms/step - loss: 0.0550 - val_loss: 0.0783\n",
      "Epoch 157/200\n",
      "1799/1799 [==============================] - 81s 45ms/step - loss: 0.0547 - val_loss: 0.0791\n",
      "Epoch 158/200\n",
      "1799/1799 [==============================] - 100s 56ms/step - loss: 0.0548 - val_loss: 0.0783\n",
      "Epoch 159/200\n",
      "1799/1799 [==============================] - 57s 32ms/step - loss: 0.0547 - val_loss: 0.0809\n",
      "Epoch 160/200\n",
      "1799/1799 [==============================] - 57s 32ms/step - loss: 0.0546 - val_loss: 0.0800\n",
      "Epoch 161/200\n",
      "1799/1799 [==============================] - 58s 32ms/step - loss: 0.0545 - val_loss: 0.0809\n",
      "Epoch 162/200\n",
      "1799/1799 [==============================] - 57s 32ms/step - loss: 0.0544 - val_loss: 0.0791\n",
      "Epoch 163/200\n",
      "1799/1799 [==============================] - 56s 31ms/step - loss: 0.0542 - val_loss: 0.0771\n",
      "Epoch 164/200\n",
      "1799/1799 [==============================] - 58s 32ms/step - loss: 0.0542 - val_loss: 0.0804\n",
      "Epoch 165/200\n",
      "1799/1799 [==============================] - 58s 32ms/step - loss: 0.0543 - val_loss: 0.0775\n",
      "Epoch 166/200\n",
      "1799/1799 [==============================] - 58s 32ms/step - loss: 0.0540 - val_loss: 0.0784\n",
      "Epoch 167/200\n",
      "1799/1799 [==============================] - 58s 32ms/step - loss: 0.0539 - val_loss: 0.0802\n",
      "Epoch 168/200\n",
      "1799/1799 [==============================] - 57s 32ms/step - loss: 0.0540 - val_loss: 0.0788\n",
      "Epoch 169/200\n",
      "1799/1799 [==============================] - 58s 32ms/step - loss: 0.0539 - val_loss: 0.0795\n",
      "Epoch 170/200\n",
      "1799/1799 [==============================] - 58s 32ms/step - loss: 0.0538 - val_loss: 0.0799\n",
      "Epoch 171/200\n",
      "1799/1799 [==============================] - 58s 32ms/step - loss: 0.0538 - val_loss: 0.0807\n",
      "Epoch 172/200\n",
      "1799/1799 [==============================] - 57s 32ms/step - loss: 0.0536 - val_loss: 0.0783\n",
      "Epoch 173/200\n",
      "1799/1799 [==============================] - 57s 32ms/step - loss: 0.0536 - val_loss: 0.0768\n",
      "Epoch 174/200\n",
      "1799/1799 [==============================] - 58s 32ms/step - loss: 0.0536 - val_loss: 0.0780\n",
      "Epoch 175/200\n",
      "1799/1799 [==============================] - 83s 46ms/step - loss: 0.0534 - val_loss: 0.0778\n",
      "Epoch 176/200\n",
      "1799/1799 [==============================] - 107s 60ms/step - loss: 0.0533 - val_loss: 0.0790\n",
      "Epoch 177/200\n",
      "1799/1799 [==============================] - 57s 32ms/step - loss: 0.0535 - val_loss: 0.0806\n",
      "Epoch 178/200\n",
      "1799/1799 [==============================] - 57s 32ms/step - loss: 0.0533 - val_loss: 0.0780\n",
      "Epoch 179/200\n",
      "1799/1799 [==============================] - 59s 33ms/step - loss: 0.0532 - val_loss: 0.0792\n",
      "Epoch 180/200\n",
      "1799/1799 [==============================] - 58s 32ms/step - loss: 0.0530 - val_loss: 0.0795\n",
      "Epoch 181/200\n",
      "1799/1799 [==============================] - 58s 32ms/step - loss: 0.0531 - val_loss: 0.0792\n",
      "Epoch 182/200\n",
      "1799/1799 [==============================] - 57s 32ms/step - loss: 0.0531 - val_loss: 0.0791\n",
      "Epoch 183/200\n",
      "1799/1799 [==============================] - 57s 32ms/step - loss: 0.0530 - val_loss: 0.0814\n",
      "Epoch 184/200\n",
      "1799/1799 [==============================] - 58s 32ms/step - loss: 0.0529 - val_loss: 0.0766\n",
      "Epoch 185/200\n",
      "1799/1799 [==============================] - 58s 32ms/step - loss: 0.0529 - val_loss: 0.0779\n",
      "Epoch 186/200\n",
      "1799/1799 [==============================] - 57s 32ms/step - loss: 0.0526 - val_loss: 0.0790\n",
      "Epoch 187/200\n",
      "1799/1799 [==============================] - 57s 32ms/step - loss: 0.0527 - val_loss: 0.0818\n",
      "Epoch 188/200\n",
      "1799/1799 [==============================] - 58s 32ms/step - loss: 0.0526 - val_loss: 0.0800\n",
      "Epoch 189/200\n",
      "1799/1799 [==============================] - 58s 32ms/step - loss: 0.0525 - val_loss: 0.0797\n",
      "Epoch 190/200\n",
      "1799/1799 [==============================] - 58s 32ms/step - loss: 0.0525 - val_loss: 0.0786\n",
      "Epoch 191/200\n",
      "1799/1799 [==============================] - 57s 32ms/step - loss: 0.0523 - val_loss: 0.0796\n",
      "Epoch 192/200\n",
      "1799/1799 [==============================] - 58s 32ms/step - loss: 0.0524 - val_loss: 0.0815\n",
      "Epoch 193/200\n",
      "1799/1799 [==============================] - 78s 43ms/step - loss: 0.0524 - val_loss: 0.0789\n",
      "Epoch 194/200\n",
      "1799/1799 [==============================] - 108s 60ms/step - loss: 0.0523 - val_loss: 0.0778\n",
      "Epoch 195/200\n",
      "1799/1799 [==============================] - 68s 38ms/step - loss: 0.0520 - val_loss: 0.0781\n",
      "Epoch 196/200\n",
      "1799/1799 [==============================] - 58s 32ms/step - loss: 0.0521 - val_loss: 0.0785\n",
      "Epoch 197/200\n",
      "1799/1799 [==============================] - 57s 32ms/step - loss: 0.0523 - val_loss: 0.0804\n",
      "Epoch 198/200\n",
      "1799/1799 [==============================] - 57s 32ms/step - loss: 0.0522 - val_loss: 0.0794\n",
      "Epoch 199/200\n",
      "1799/1799 [==============================] - 58s 32ms/step - loss: 0.0521 - val_loss: 0.0798\n",
      "Epoch 200/200\n",
      "1799/1799 [==============================] - 57s 32ms/step - loss: 0.0517 - val_loss: 0.0814\n"
     ]
    },
    {
     "data": {
      "text/plain": [
       "<keras.callbacks.History at 0x7fdef34ed0d0>"
      ]
     },
     "execution_count": 13,
     "metadata": {},
     "output_type": "execute_result"
    }
   ],
   "source": [
    "model.fit(xtrain, ytrain, epochs=200, validation_data=(xval, yval), batch_size=512)"
   ]
  },
  {
   "cell_type": "code",
   "execution_count": 14,
   "id": "330863e8",
   "metadata": {
    "execution": {
     "iopub.execute_input": "2022-02-19T07:08:47.378677Z",
     "iopub.status.busy": "2022-02-19T07:08:47.377624Z",
     "iopub.status.idle": "2022-02-19T07:09:28.595018Z",
     "shell.execute_reply": "2022-02-19T07:09:28.594219Z",
     "shell.execute_reply.started": "2022-02-19T03:38:06.218342Z"
    },
    "papermill": {
     "duration": 105.082628,
     "end_time": "2022-02-19T07:09:28.595178",
     "exception": false,
     "start_time": "2022-02-19T07:07:43.512550",
     "status": "completed"
    },
    "tags": []
   },
   "outputs": [],
   "source": [
    "\"\"\"Recover original values before standardization\"\"\"\n",
    "test_preds = model.predict(xtest)\n",
    "test_preds = (test_preds*std)+mean\n",
    "test_true = (ytest*std)+mean"
   ]
  },
  {
   "cell_type": "code",
   "execution_count": 15,
   "id": "4da91e25",
   "metadata": {
    "execution": {
     "iopub.execute_input": "2022-02-19T07:11:35.988107Z",
     "iopub.status.busy": "2022-02-19T07:11:35.987218Z",
     "iopub.status.idle": "2022-02-19T07:11:36.708885Z",
     "shell.execute_reply": "2022-02-19T07:11:36.708354Z",
     "shell.execute_reply.started": "2022-02-19T03:38:47.440182Z"
    },
    "papermill": {
     "duration": 64.253818,
     "end_time": "2022-02-19T07:11:36.709049",
     "exception": false,
     "start_time": "2022-02-19T07:10:32.455231",
     "status": "completed"
    },
    "tags": []
   },
   "outputs": [
    {
     "name": "stdout",
     "output_type": "stream",
     "text": [
      "RMSE:  45.04937464182034\n",
      "MAE:  23.163039280100474\n",
      "MAPE:  86.47854128348335 %\n"
     ]
    }
   ],
   "source": [
    "\"\"\"Overall evaluation the predictions of the test data\"\"\"\n",
    "from sklearn.metrics import mean_squared_error\n",
    "from sklearn.metrics import mean_absolute_error\n",
    "\n",
    "def mean_absolute_percentage_error(y_true, y_pred): \n",
    "    y_true, y_pred = np.array(y_true), np.array(y_pred)\n",
    "    y_true +=  1\n",
    "    return np.mean(np.abs((y_true - y_pred) / y_true)) * 100\n",
    "\n",
    "print('RMSE: ', np.sqrt(mean_squared_error(test_true.flatten(), test_preds.flatten())))\n",
    "print('MAE: ', mean_absolute_error(test_true.flatten(), test_preds.flatten()))\n",
    "print('MAPE: ', mean_absolute_percentage_error(test_true.flatten(), test_preds.flatten()), \"%\")"
   ]
  },
  {
   "cell_type": "code",
   "execution_count": 16,
   "id": "234d3ca0",
   "metadata": {
    "execution": {
     "iopub.execute_input": "2022-02-19T07:13:44.389280Z",
     "iopub.status.busy": "2022-02-19T07:13:44.388547Z",
     "iopub.status.idle": "2022-02-19T07:13:45.322637Z",
     "shell.execute_reply": "2022-02-19T07:13:45.323059Z",
     "shell.execute_reply.started": "2022-02-19T03:38:48.180999Z"
    },
    "papermill": {
     "duration": 64.768391,
     "end_time": "2022-02-19T07:13:45.323208",
     "exception": false,
     "start_time": "2022-02-19T07:12:40.554817",
     "status": "completed"
    },
    "tags": []
   },
   "outputs": [
    {
     "data": {
      "image/png": "[encoded data removed]",
      "text/plain": [
       "<Figure size 1080x432 with 4 Axes>"
      ]
     },
     "metadata": {
      "needs_background": "light"
     },
     "output_type": "display_data"
    }
   ],
   "source": [
    "test_preds = test_preds.reshape(4032,2, 15, 5)\n",
    "test_true = test_true.reshape(4032, 2, 15, 5)\n",
    "\n",
    "\"\"\"Prediction of inflow at certain time slice\"\"\"\n",
    "\n",
    "import matplotlib.pyplot as plt\n",
    "import seaborn as sns\n",
    "\n",
    "one_time_slice_inflow_true = test_true[0, 0, :, :]\n",
    "one_time_slice_inflow_preds = test_preds[0, 0, :, :]\n",
    "one_time_slice_inflow_preds = one_time_slice_inflow_preds.astype(int)\n",
    "fig, (ax1, ax2) = plt.subplots(1,2, figsize=(15,6))\n",
    "\n",
    "x_axis_labels = y_axis_labels = range(16,6)\n",
    "\n",
    "sns.heatmap(one_time_slice_inflow_preds, \n",
    "                 xticklabels=x_axis_labels, \n",
    "                 yticklabels=y_axis_labels, \n",
    "                 ax=ax1, annot=True)\n",
    "\n",
    "sns.heatmap(one_time_slice_inflow_true, \n",
    "                 xticklabels=x_axis_labels, \n",
    "                 yticklabels=y_axis_labels, \n",
    "                 ax=ax2, annot=True)\n",
    "\n",
    "ax2.set_title('True')\n",
    "ax1.set_title('Prediction')\n",
    "plt.show()"
   ]
  }
 ],
 "metadata": {
  "kernelspec": {
   "display_name": "Python 3",
   "language": "python",
   "name": "python3"
  },
  "language_info": {
   "codemirror_mode": {
    "name": "ipython",
    "version": 3
   },
   "file_extension": ".py",
   "mimetype": "text/x-python",
   "name": "python",
   "nbconvert_exporter": "python",
   "pygments_lexer": "ipython3",
   "version": "3.7.12"
  },
  "papermill": {
   "default_parameters": {},
   "duration": 12904.291938,
   "end_time": "2022-02-19T07:14:51.456056",
   "environment_variables": {},
   "exception": null,
   "input_path": "__notebook__.ipynb",
   "output_path": "__notebook__.ipynb",
   "parameters": {},
   "start_time": "2022-02-19T03:39:47.164118",
   "version": "2.3.3"
  }
 },
 "nbformat": 4,
 "nbformat_minor": 5
}
