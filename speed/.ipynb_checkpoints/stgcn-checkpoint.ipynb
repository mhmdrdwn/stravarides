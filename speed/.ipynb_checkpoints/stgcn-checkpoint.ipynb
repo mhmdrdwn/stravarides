{
 "cells": [
  {
   "cell_type": "markdown",
   "metadata": {},
   "source": [
    "# Using STGCN for speed prediction of the traffic\n",
    "\n",
    "The details about the data is shown in the notebook\n",
    "https://github.com/mhmdrdwn/traffic/blob/main/speed/notebooks/tgcn-seoul-dataset.ipynb\n",
    "\n",
    "The data: https://github.com/yuyolshin/SeoulSpeedData"
   ]
  },
  {
   "cell_type": "code",
   "execution_count": 1,
   "metadata": {
    "execution": {
     "iopub.execute_input": "2022-02-08T00:03:55.001387Z",
     "iopub.status.busy": "2022-02-08T00:03:55.001059Z",
     "iopub.status.idle": "2022-02-08T00:03:55.029451Z",
     "shell.execute_reply": "2022-02-08T00:03:55.028703Z",
     "shell.execute_reply.started": "2022-02-08T00:03:55.001288Z"
    }
   },
   "outputs": [],
   "source": [
    "from IPython.display import clear_output"
   ]
  },
  {
   "cell_type": "code",
   "execution_count": 2,
   "metadata": {
    "execution": {
     "iopub.execute_input": "2022-02-08T00:03:55.032089Z",
     "iopub.status.busy": "2022-02-08T00:03:55.031602Z",
     "iopub.status.idle": "2022-02-08T00:03:58.563909Z",
     "shell.execute_reply": "2022-02-08T00:03:58.563044Z",
     "shell.execute_reply.started": "2022-02-08T00:03:55.032051Z"
    }
   },
   "outputs": [
    {
     "name": "stdout",
     "output_type": "stream",
     "text": [
      "Cloning into 'STGCN-PyTorch'...\n",
      "remote: Enumerating objects: 29, done.\u001b[K\n",
      "remote: Counting objects: 100% (29/29), done.\u001b[K\n",
      "remote: Compressing objects: 100% (17/17), done.\u001b[K\n",
      "remote: Total 29 (delta 7), reused 26 (delta 7), pack-reused 0\u001b[K\n",
      "Unpacking objects: 100% (29/29), 8.18 MiB | 4.58 MiB/s, done.\n"
     ]
    }
   ],
   "source": [
    "\"\"\"Implementation of the STGCN is taken from the following github repository \"\"\"\n",
    "!git clone https://github.com/Aguin/STGCN-PyTorch.git"
   ]
  },
  {
   "cell_type": "code",
   "execution_count": 3,
   "metadata": {
    "execution": {
     "iopub.execute_input": "2022-02-08T00:03:58.566755Z",
     "iopub.status.busy": "2022-02-08T00:03:58.566466Z",
     "iopub.status.idle": "2022-02-08T00:03:59.984135Z",
     "shell.execute_reply": "2022-02-08T00:03:59.983381Z",
     "shell.execute_reply.started": "2022-02-08T00:03:58.566718Z"
    }
   },
   "outputs": [],
   "source": [
    "import torch\n",
    "import numpy as np\n",
    "import pandas as pd\n",
    "\n",
    "def read_data(features_csv, adj_csv):\n",
    "    urban_core_speeds = pd.read_csv(features_csv, header=None)\n",
    "    adj_matrix_df = pd.read_csv(adj_csv, header=None)\n",
    "    adj_matrix = np.array(adj_matrix_df)\n",
    "\n",
    "    speeds_df = urban_core_speeds.iloc[:, 7:]\n",
    "    speeds = np.array(speeds_df)\n",
    "    \n",
    "    return adj_matrix_df, urban_core_speeds, adj_matrix, speeds"
   ]
  },
  {
   "cell_type": "markdown",
   "metadata": {},
   "source": [
    "Spatiotemporal Graph Convolutional Network (STGCN) is explained in the article https://arxiv.org/abs/1709.04875\n",
    "\n",
    "\n"
   ]
  },
  {
   "cell_type": "code",
   "execution_count": 4,
   "metadata": {
    "execution": {
     "iopub.execute_input": "2022-02-08T00:03:59.986660Z",
     "iopub.status.busy": "2022-02-08T00:03:59.986302Z",
     "iopub.status.idle": "2022-02-08T00:04:00.022031Z",
     "shell.execute_reply": "2022-02-08T00:04:00.021373Z",
     "shell.execute_reply.started": "2022-02-08T00:03:59.986613Z"
    }
   },
   "outputs": [],
   "source": [
    "\"\"\"Ref: https://github.com/Aguin/STGCN-PyTorch.git\"\"\"\n",
    "\n",
    "import math\n",
    "import random\n",
    "import torch\n",
    "import torch.nn as nn\n",
    "import torch.nn.init as init\n",
    "import torch.nn.functional as F\n",
    "\n",
    "class align(nn.Module):\n",
    "    def __init__(self, c_in, c_out):\n",
    "        super(align, self).__init__()\n",
    "        self.c_in = c_in\n",
    "        self.c_out = c_out\n",
    "        if c_in > c_out:\n",
    "            self.conv1x1 = nn.Conv2d(c_in, c_out, 1)\n",
    "\n",
    "    def forward(self, x):\n",
    "        if self.c_in > self.c_out:\n",
    "            return self.conv1x1(x)\n",
    "        if self.c_in < self.c_out:\n",
    "            return F.pad(x, [0, 0, 0, 0, 0, self.c_out - self.c_in, 0, 0])\n",
    "        return x\n",
    "\n",
    "class temporal_conv_layer(nn.Module):\n",
    "    def __init__(self, kt, c_in, c_out, act=\"relu\"):\n",
    "        super(temporal_conv_layer, self).__init__()\n",
    "        self.kt = kt\n",
    "        self.act = act\n",
    "        self.c_out = c_out\n",
    "        self.align = align(c_in, c_out)\n",
    "        if self.act == \"GLU\":\n",
    "            self.conv = nn.Conv2d(c_in, c_out * 2, (kt, 1), 1)\n",
    "        else:\n",
    "            self.conv = nn.Conv2d(c_in, c_out, (kt, 1), 1)\n",
    "\n",
    "    def forward(self, x):\n",
    "        x_in = self.align(x)[:, :, self.kt - 1:, :]\n",
    "        if self.act == \"GLU\":\n",
    "            x_conv = self.conv(x)\n",
    "            return (x_conv[:, :self.c_out, :, :] + x_in) * torch.sigmoid(x_conv[:, self.c_out:, :, :])\n",
    "        if self.act == \"sigmoid\":\n",
    "            return torch.sigmoid(self.conv(x) + x_in)\n",
    "        return torch.relu(self.conv(x) + x_in)\n",
    "\n",
    "class spatio_conv_layer(nn.Module):\n",
    "    def __init__(self, ks, c, Lk):\n",
    "        super(spatio_conv_layer, self).__init__()\n",
    "        self.Lk = Lk\n",
    "        self.theta = nn.Parameter(torch.FloatTensor(c, c, ks))\n",
    "        self.b = nn.Parameter(torch.FloatTensor(1, c, 1, 1))\n",
    "        self.reset_parameters()\n",
    "\n",
    "    def reset_parameters(self):\n",
    "        init.kaiming_uniform_(self.theta, a=math.sqrt(5))\n",
    "        fan_in, _ = init._calculate_fan_in_and_fan_out(self.theta)\n",
    "        bound = 1 / math.sqrt(fan_in)\n",
    "        init.uniform_(self.b, -bound, bound)\n",
    "\n",
    "    def forward(self, x):\n",
    "        x_c = torch.einsum(\"knm,bitm->bitkn\", self.Lk, x)\n",
    "        x_gc = torch.einsum(\"iok,bitkn->botn\", self.theta, x_c) + self.b\n",
    "        return torch.relu(x_gc + x)\n",
    "\n",
    "class st_conv_block(nn.Module):\n",
    "    def __init__(self, ks, kt, n, c, p, Lk):\n",
    "        super(st_conv_block, self).__init__()\n",
    "        self.tconv1 = temporal_conv_layer(kt, c[0], c[1], \"GLU\")\n",
    "        self.sconv = spatio_conv_layer(ks, c[1], Lk)\n",
    "        self.tconv2 = temporal_conv_layer(kt, c[1], c[2])\n",
    "        self.ln = nn.LayerNorm([n, c[2]])\n",
    "        self.dropout = nn.Dropout(p)\n",
    "\n",
    "    def forward(self, x):\n",
    "        x_t1 = self.tconv1(x)\n",
    "        x_s = self.sconv(x_t1)\n",
    "        x_t2 = self.tconv2(x_s)\n",
    "        x_ln = self.ln(x_t2.permute(0, 2, 3, 1)).permute(0, 3, 1, 2)        \n",
    "        return self.dropout(x_ln)\n",
    "\n",
    "class fully_conv_layer(nn.Module):\n",
    "    def __init__(self, c):\n",
    "        super(fully_conv_layer, self).__init__()\n",
    "        self.conv = nn.Conv2d(c, 1, 1)\n",
    "\n",
    "    def forward(self, x):\n",
    "        return self.conv(x)\n",
    "\n",
    "class output_layer(nn.Module):\n",
    "    def __init__(self, c, T, n):\n",
    "        super(output_layer, self).__init__()\n",
    "        self.tconv1 = temporal_conv_layer(T, c, c, \"GLU\")\n",
    "        self.ln = nn.LayerNorm([n, c])\n",
    "        self.tconv2 = temporal_conv_layer(1, c, c, \"sigmoid\")\n",
    "        self.fc = fully_conv_layer(c)\n",
    "\n",
    "    def forward(self, x):\n",
    "        x_t1 = self.tconv1(x)\n",
    "        x_ln = self.ln(x_t1.permute(0, 2, 3, 1)).permute(0, 3, 1, 2)\n",
    "        x_t2 = self.tconv2(x_ln)\n",
    "        return self.fc(x_t2)\n",
    "\n",
    "class STGCN(nn.Module):\n",
    "    def __init__(self, ks, kt, bs, T, n, Lk, p):\n",
    "        super(STGCN, self).__init__()\n",
    "        self.st_conv1 = st_conv_block(ks, kt, n, bs[0], p, Lk)\n",
    "        self.st_conv2 = st_conv_block(ks, kt, n, bs[1], p, Lk)\n",
    "        self.output = output_layer(bs[1][2], T - 4 * (kt - 1), n)\n",
    "\n",
    "    def forward(self, x):\n",
    "        x_st1 = self.st_conv1(x)\n",
    "        x_st2 = self.st_conv2(x_st1)\n",
    "        return self.output(x_st2)\n",
    "    \n",
    "\n",
    "def scaled_laplacian(A):\n",
    "    n = A.shape[0]\n",
    "    d = np.sum(A, axis=1)\n",
    "    L = np.diag(d) - A\n",
    "    for i in range(n):\n",
    "        for j in range(n):\n",
    "            if d[i] > 0 and d[j] > 0:\n",
    "                L[i, j] /= np.sqrt(d[i] * d[j])\n",
    "    lam = np.linalg.eigvals(L).max().real\n",
    "    return 2 * L / lam - np.eye(n)\n",
    "\n",
    "def cheb_poly(L, Ks):\n",
    "    n = L.shape[0]\n",
    "    LL = [np.eye(n), L[:]]\n",
    "    for i in range(2, Ks):\n",
    "        LL.append(np.matmul(2 * L, LL[-1]) - LL[-2])\n",
    "    return np.asarray(LL)"
   ]
  },
  {
   "cell_type": "markdown",
   "metadata": {},
   "source": [
    "## Using Seoul Urban Core Data"
   ]
  },
  {
   "cell_type": "code",
   "execution_count": 5,
   "metadata": {
    "execution": {
     "iopub.execute_input": "2022-02-08T00:04:00.023588Z",
     "iopub.status.busy": "2022-02-08T00:04:00.023279Z",
     "iopub.status.idle": "2022-02-08T00:04:01.767783Z",
     "shell.execute_reply": "2022-02-08T00:04:01.766892Z",
     "shell.execute_reply.started": "2022-02-08T00:04:00.023550Z"
    }
   },
   "outputs": [],
   "source": [
    "adj_matrix_df, urban_core_speeds, adj_matrix, speeds = read_data(\n",
    "    '../input/seoul-speed-data/urban-core.csv', \n",
    "    '../input/seoul-speed-data/Adj(urban-core).csv')"
   ]
  },
  {
   "cell_type": "code",
   "execution_count": 6,
   "metadata": {
    "execution": {
     "iopub.execute_input": "2022-02-08T00:04:01.769566Z",
     "iopub.status.busy": "2022-02-08T00:04:01.769136Z",
     "iopub.status.idle": "2022-02-08T00:04:05.341628Z",
     "shell.execute_reply": "2022-02-08T00:04:05.340946Z",
     "shell.execute_reply.started": "2022-02-08T00:04:01.769515Z"
    }
   },
   "outputs": [
    {
     "data": {
      "text/plain": [
       "torch.Size([3, 304, 304])"
      ]
     },
     "execution_count": 6,
     "metadata": {},
     "output_type": "execute_result"
    }
   ],
   "source": [
    "device = torch.device(\"cuda\") if torch.cuda.is_available() else torch.device(\"cpu\")\n",
    "\n",
    "Ks, Kt = 3, 3\n",
    "L = scaled_laplacian(adj_matrix)\n",
    "Lk = cheb_poly(L, Ks)\n",
    "Lk = torch.Tensor(Lk.astype(np.float32)).to(device)\n",
    "\n",
    "Lk.shape"
   ]
  },
  {
   "cell_type": "code",
   "execution_count": 45,
   "metadata": {
    "execution": {
     "iopub.execute_input": "2022-02-08T00:14:40.393160Z",
     "iopub.status.busy": "2022-02-08T00:14:40.392716Z",
     "iopub.status.idle": "2022-02-08T00:14:40.399743Z",
     "shell.execute_reply": "2022-02-08T00:14:40.399061Z",
     "shell.execute_reply.started": "2022-02-08T00:14:40.393124Z"
    }
   },
   "outputs": [
    {
     "name": "stdout",
     "output_type": "stream",
     "text": [
      "Train data:  (304, 6336)\n",
      "Test data:  (304, 1728)\n",
      "Val data:  (304, 576)\n"
     ]
    }
   ],
   "source": [
    "\"\"\"Train test split the data\"\"\"\n",
    "test_split = 6 * 12 * 24 # 6 days X 12 measurements per hour X 24 hours\n",
    "val_split = 2 * 12 * 24 # 2 days X 12 measurements per hour X 24 hours\n",
    "\n",
    "split = speeds.shape[1] - test_split\n",
    "train_data = speeds[:, :split-int(val_split)]\n",
    "test_data = speeds[:, split:]\n",
    "val_data = speeds[:, split-int(val_split):split]\n",
    "\n",
    "print(\"Train data: \", train_data.shape)\n",
    "print(\"Test data: \", test_data.shape)\n",
    "print(\"Val data: \", val_data.shape)"
   ]
  },
  {
   "cell_type": "code",
   "execution_count": 46,
   "metadata": {
    "execution": {
     "iopub.execute_input": "2022-02-08T00:14:42.577089Z",
     "iopub.status.busy": "2022-02-08T00:14:42.576841Z",
     "iopub.status.idle": "2022-02-08T00:14:42.593548Z",
     "shell.execute_reply": "2022-02-08T00:14:42.592811Z",
     "shell.execute_reply.started": "2022-02-08T00:14:42.577059Z"
    }
   },
   "outputs": [
    {
     "data": {
      "text/plain": [
       "((304, 6336), (304, 1728), (304, 576))"
      ]
     },
     "execution_count": 46,
     "metadata": {},
     "output_type": "execute_result"
    }
   ],
   "source": [
    "\"\"\"Min max standardizing the data\"\"\"\n",
    "max_speed = train_data.max()\n",
    "min_speed = train_data.min()\n",
    "\n",
    "train_data = (train_data - min_speed) / (max_speed - min_speed)\n",
    "test_data = (test_data - min_speed) / (max_speed - min_speed)\n",
    "val_data = (val_data - min_speed) / (max_speed - min_speed)\n",
    "\n",
    "train_data.shape, test_data.shape, val_data.shape"
   ]
  },
  {
   "cell_type": "code",
   "execution_count": 48,
   "metadata": {
    "execution": {
     "iopub.execute_input": "2022-02-08T00:14:56.994431Z",
     "iopub.status.busy": "2022-02-08T00:14:56.994159Z",
     "iopub.status.idle": "2022-02-08T00:14:57.106148Z",
     "shell.execute_reply": "2022-02-08T00:14:57.105104Z",
     "shell.execute_reply.started": "2022-02-08T00:14:56.994399Z"
    }
   },
   "outputs": [
    {
     "name": "stdout",
     "output_type": "stream",
     "text": [
      "(6326, 1, 10, 304)\n",
      "(6326, 304)\n",
      "(1718, 1, 10, 304)\n",
      "(1718, 304)\n",
      "(566, 1, 10, 304)\n",
      "(566, 304)\n"
     ]
    }
   ],
   "source": [
    "\"\"\"Ref: https://stellargraph.readthedocs.io/en/stable/demos/time-series/gcn-lstm-time-series.html\"\"\"\n",
    "\n",
    "sequence_len = 10\n",
    "prediction_len = 1\n",
    "\n",
    "def build_features_labels(sequence_len, prediction_len, train_data, test_data, val_data):\n",
    "    X_train, Y_train, X_test, Y_test, X_val, Y_val = [], [], [], [], [], []\n",
    "\n",
    "    for i in range(train_data.shape[1] - int(sequence_len + prediction_len - 1)):\n",
    "        a = train_data[:, i : i + sequence_len + prediction_len]\n",
    "        X_train.append(a[:, :sequence_len])\n",
    "        Y_train.append(a[:, sequence_len:sequence_len+prediction_len])\n",
    "\n",
    "    for i in range(test_data.shape[1] - int(sequence_len + prediction_len - 1)):\n",
    "        b = test_data[:, i : i + sequence_len + prediction_len]\n",
    "        X_test.append(b[:, :sequence_len])\n",
    "        Y_test.append(b[:, sequence_len:sequence_len+prediction_len])\n",
    "        \n",
    "    for i in range(val_data.shape[1] - int(sequence_len + prediction_len - 1)):\n",
    "        b = val_data[:, i : i + sequence_len + prediction_len]\n",
    "        X_val.append(b[:, :sequence_len])\n",
    "        Y_val.append(b[:, sequence_len:sequence_len+prediction_len])\n",
    "        \n",
    "    X_train = np.array(X_train)\n",
    "    Y_train = np.array(Y_train)\n",
    "    X_test = np.array(X_test)\n",
    "    Y_test = np.array(Y_test)\n",
    "    X_val = np.array(X_val)\n",
    "    Y_val = np.array(Y_val)\n",
    "    \n",
    "    return X_train, Y_train, X_test, Y_test, X_val, Y_val\n",
    "\n",
    "X_train, Y_train, X_test, Y_test, X_val, Y_val = build_features_labels(sequence_len, \n",
    "                                                                       prediction_len, \n",
    "                                                                       train_data, \n",
    "                                                                       test_data, \n",
    "                                                                       val_data)\n",
    "\n",
    "X_train_shape = X_train.shape\n",
    "X_test_shape = X_test.shape\n",
    "X_val_shape = X_val.shape\n",
    "\n",
    "X_train = X_train.reshape(X_train_shape[0], 1, X_train_shape[2],  X_train_shape[1])\n",
    "X_test = X_test.reshape(X_test_shape[0], 1, X_test_shape[2], X_test_shape[1])\n",
    "X_val = X_val.reshape(X_val_shape[0], 1, X_val_shape[2], X_val_shape[1])\n",
    "Y_train = Y_train.reshape(Y_train.shape[0], Y_train.shape[1])\n",
    "Y_test = Y_test.reshape(Y_test.shape[0], Y_test.shape[1])\n",
    "Y_val = Y_val.reshape(Y_val.shape[0], Y_val.shape[1])\n",
    "\n",
    "print(X_train.shape)\n",
    "print(Y_train.shape)\n",
    "print(X_test.shape)\n",
    "print(Y_test.shape)\n",
    "print(X_val.shape)\n",
    "print(Y_val.shape)"
   ]
  },
  {
   "cell_type": "code",
   "execution_count": 49,
   "metadata": {
    "execution": {
     "iopub.execute_input": "2022-02-08T00:15:03.243937Z",
     "iopub.status.busy": "2022-02-08T00:15:03.243254Z",
     "iopub.status.idle": "2022-02-08T00:15:03.340656Z",
     "shell.execute_reply": "2022-02-08T00:15:03.339849Z",
     "shell.execute_reply.started": "2022-02-08T00:15:03.243899Z"
    }
   },
   "outputs": [],
   "source": [
    "X_test = torch.Tensor(X_test).to(device)\n",
    "X_train = torch.Tensor(X_train).to(device)\n",
    "X_val = torch.Tensor(X_val).to(device)\n",
    "Y_train = torch.Tensor(Y_train).to(device)\n",
    "Y_test = torch.Tensor(Y_test).to(device)\n",
    "Y_val = torch.Tensor(Y_val).to(device)"
   ]
  },
  {
   "cell_type": "code",
   "execution_count": 50,
   "metadata": {
    "execution": {
     "iopub.execute_input": "2022-02-08T00:15:08.835786Z",
     "iopub.status.busy": "2022-02-08T00:15:08.835528Z",
     "iopub.status.idle": "2022-02-08T00:15:08.840095Z",
     "shell.execute_reply": "2022-02-08T00:15:08.839283Z",
     "shell.execute_reply.started": "2022-02-08T00:15:08.835756Z"
    }
   },
   "outputs": [],
   "source": [
    "n_his = 10 #time series feature length \n",
    "n_pred = 1 #prediction length\n",
    "day_slot = 12*24 #12 slots per hour X 24 hours"
   ]
  },
  {
   "cell_type": "code",
   "execution_count": 51,
   "metadata": {
    "execution": {
     "iopub.execute_input": "2022-02-08T00:15:40.035237Z",
     "iopub.status.busy": "2022-02-08T00:15:40.034662Z",
     "iopub.status.idle": "2022-02-08T00:15:40.040522Z",
     "shell.execute_reply": "2022-02-08T00:15:40.039823Z",
     "shell.execute_reply.started": "2022-02-08T00:15:40.035195Z"
    }
   },
   "outputs": [],
   "source": [
    "batch_size = 32\n",
    "train_data = torch.utils.data.TensorDataset(X_train, Y_train)\n",
    "train_iter = torch.utils.data.DataLoader(train_data, batch_size)\n",
    "test_data = torch.utils.data.TensorDataset(X_test, Y_test)\n",
    "test_iter = torch.utils.data.DataLoader(test_data, batch_size)\n",
    "val_data = torch.utils.data.TensorDataset(X_val, Y_val)\n",
    "val_iter = torch.utils.data.DataLoader(val_data, batch_size)"
   ]
  },
  {
   "cell_type": "code",
   "execution_count": 54,
   "metadata": {
    "execution": {
     "iopub.execute_input": "2022-02-08T00:16:21.131006Z",
     "iopub.status.busy": "2022-02-08T00:16:21.130743Z",
     "iopub.status.idle": "2022-02-08T00:16:21.144847Z",
     "shell.execute_reply": "2022-02-08T00:16:21.143830Z",
     "shell.execute_reply.started": "2022-02-08T00:16:21.130977Z"
    }
   },
   "outputs": [],
   "source": [
    "num_sensors = 304 #number of sensors in data\n",
    "Ks, Kt = 3, 3 \n",
    "blocks = [[1, 32, 64], [64, 32, 128]]\n",
    "drop_prob = 0.3 \n",
    "\n",
    "loss = nn.MSELoss()\n",
    "model = STGCN(Ks, Kt, blocks, n_his, num_sensors, Lk, drop_prob).to(device)\n",
    "optimizer = torch.optim.Adam(model.parameters(), lr=0.01)"
   ]
  },
  {
   "cell_type": "code",
   "execution_count": 53,
   "metadata": {
    "execution": {
     "iopub.execute_input": "2022-02-08T00:15:47.713937Z",
     "iopub.status.busy": "2022-02-08T00:15:47.713467Z",
     "iopub.status.idle": "2022-02-08T00:15:47.719079Z",
     "shell.execute_reply": "2022-02-08T00:15:47.718398Z",
     "shell.execute_reply.started": "2022-02-08T00:15:47.713899Z"
    }
   },
   "outputs": [],
   "source": [
    "def evaluate_model(model, loss, data_iter):\n",
    "    model.eval()\n",
    "    loss_sum, n = 0, 0\n",
    "    with torch.no_grad():\n",
    "        for x, y in data_iter:\n",
    "            y_pred = model(x).view(len(x), -1)\n",
    "            los = loss(y_pred, y)\n",
    "            loss_sum += los.item() * y.shape[0]\n",
    "            n += y.shape[0]\n",
    "        return loss_sum / n"
   ]
  },
  {
   "cell_type": "code",
   "execution_count": 55,
   "metadata": {
    "execution": {
     "iopub.execute_input": "2022-02-08T00:16:27.086848Z",
     "iopub.status.busy": "2022-02-08T00:16:27.086166Z",
     "iopub.status.idle": "2022-02-08T00:20:10.885623Z",
     "shell.execute_reply": "2022-02-08T00:20:10.884886Z",
     "shell.execute_reply.started": "2022-02-08T00:16:27.086810Z"
    }
   },
   "outputs": [
    {
     "name": "stdout",
     "output_type": "stream",
     "text": [
      "epoch 1\n",
      "Train loss: 0.028436828630060956\n",
      "Val loss: 0.005781037147179931\n",
      "epoch 2\n",
      "Train loss: 0.008151004751340389\n",
      "Val loss: 0.006102158909321305\n",
      "epoch 3\n",
      "Train loss: 0.007227859529894796\n",
      "Val loss: 0.006253722494027113\n",
      "epoch 4\n",
      "Train loss: 0.006810757261031071\n",
      "Val loss: 0.00633649605280282\n",
      "epoch 5\n",
      "Train loss: 0.006592683565714245\n",
      "Val loss: 0.006402765459121064\n",
      "epoch 6\n",
      "Train loss: 0.00653765402910062\n",
      "Val loss: 0.006427257751236429\n",
      "epoch 7\n",
      "Train loss: 0.006382854948134771\n",
      "Val loss: 0.006596305441315361\n",
      "epoch 8\n",
      "Train loss: 0.006365399274234833\n",
      "Val loss: 0.006600526193578073\n",
      "epoch 9\n",
      "Train loss: 0.0063717301095501085\n",
      "Val loss: 0.006603223520953064\n",
      "epoch 10\n",
      "Train loss: 0.006382171236569844\n",
      "Val loss: 0.006597975825943553\n",
      "epoch 11\n",
      "Train loss: 0.0063936121847481715\n",
      "Val loss: 0.006588600501878839\n",
      "epoch 12\n",
      "Train loss: 0.006404539957183813\n",
      "Val loss: 0.006577162886558383\n",
      "epoch 13\n",
      "Train loss: 0.006412919685085561\n",
      "Val loss: 0.006564575553519566\n",
      "epoch 14\n",
      "Train loss: 0.0064193374728928245\n",
      "Val loss: 0.006555040894313173\n",
      "epoch 15\n",
      "Train loss: 0.006423001421407604\n",
      "Val loss: 0.00654380776600208\n",
      "epoch 16\n",
      "Train loss: 0.006417492234171346\n",
      "Val loss: 0.006542533525848241\n",
      "epoch 17\n",
      "Train loss: 0.00629312040253654\n",
      "Val loss: 0.0067817970366602235\n",
      "epoch 18\n",
      "Train loss: 0.0060602787353123124\n",
      "Val loss: 0.005890836465327141\n",
      "epoch 19\n",
      "Train loss: 0.004492737393481159\n",
      "Val loss: 0.004023328265537221\n",
      "epoch 20\n",
      "Train loss: 0.0035018234608952255\n",
      "Val loss: 0.0033605943192059813\n",
      "epoch 21\n",
      "Train loss: 0.0031991969384612246\n",
      "Val loss: 0.003262529293628074\n",
      "epoch 22\n",
      "Train loss: 0.00328140023386461\n",
      "Val loss: 0.0034547901486931864\n",
      "epoch 23\n",
      "Train loss: 0.003142061231892239\n",
      "Val loss: 0.0033044024220875105\n",
      "epoch 24\n",
      "Train loss: 0.0030980880628833137\n",
      "Val loss: 0.0030654129060478912\n",
      "epoch 25\n",
      "Train loss: 0.0030081753790969813\n",
      "Val loss: 0.0029860631737186716\n",
      "epoch 26\n",
      "Train loss: 0.0028492960381936113\n",
      "Val loss: 0.0037274998917109447\n",
      "epoch 27\n",
      "Train loss: 0.0030123120414666123\n",
      "Val loss: 0.003758520881773726\n",
      "epoch 28\n",
      "Train loss: 0.003058571387815501\n",
      "Val loss: 0.002903499118506566\n",
      "epoch 29\n",
      "Train loss: 0.0030582401887644726\n",
      "Val loss: 0.003330985819690535\n",
      "epoch 30\n",
      "Train loss: 0.003086722008512955\n",
      "Val loss: 0.0030595110819836282\n",
      "epoch 31\n",
      "Train loss: 0.0031591272573426974\n",
      "Val loss: 0.0034642201723274198\n",
      "epoch 32\n",
      "Train loss: 0.0031007898655942947\n",
      "Val loss: 0.002883779775193323\n",
      "epoch 33\n",
      "Train loss: 0.002984640136766864\n",
      "Val loss: 0.002842259552994539\n",
      "epoch 34\n",
      "Train loss: 0.0029926492867639763\n",
      "Val loss: 0.0032478769267859867\n",
      "epoch 35\n",
      "Train loss: 0.0032023643047781147\n",
      "Val loss: 0.0032761041247763084\n",
      "epoch 36\n",
      "Train loss: 0.0029521391111203164\n",
      "Val loss: 0.0030017596218642833\n",
      "epoch 37\n",
      "Train loss: 0.0029204966932643525\n",
      "Val loss: 0.003729440642902529\n",
      "epoch 38\n",
      "Train loss: 0.0030935060216241714\n",
      "Val loss: 0.0028794604660482425\n",
      "epoch 39\n",
      "Train loss: 0.0030530871429760038\n",
      "Val loss: 0.004286180211678674\n",
      "epoch 40\n",
      "Train loss: 0.0033512719590487764\n",
      "Val loss: 0.002831810284422401\n",
      "epoch 41\n",
      "Train loss: 0.0028118663167135175\n",
      "Val loss: 0.003100605115093712\n",
      "epoch 42\n",
      "Train loss: 0.002856707299929648\n",
      "Val loss: 0.002892099123023608\n",
      "epoch 43\n",
      "Train loss: 0.0029340084566941726\n",
      "Val loss: 0.004064650106977658\n",
      "epoch 44\n",
      "Train loss: 0.0031511179903045724\n",
      "Val loss: 0.0027913773118093768\n",
      "epoch 45\n",
      "Train loss: 0.00242130335719524\n",
      "Val loss: 0.003000009448313592\n",
      "epoch 46\n",
      "Train loss: 0.0033580834659036113\n",
      "Val loss: 0.002638587787378803\n",
      "epoch 47\n",
      "Train loss: 0.002897401237986932\n",
      "Val loss: 0.0035688849091990572\n",
      "epoch 48\n",
      "Train loss: 0.0028499545987490525\n",
      "Val loss: 0.002562532993691707\n",
      "epoch 49\n",
      "Train loss: 0.002845479137538907\n",
      "Val loss: 0.002892358732482175\n",
      "epoch 50\n",
      "Train loss: 0.003077359814573712\n",
      "Val loss: 0.002732729167404318\n"
     ]
    }
   ],
   "source": [
    "epochs = 50\n",
    "\n",
    "for epoch in range(1, epochs + 1):\n",
    "    print(\"epoch\", epoch) \n",
    "    loss_sum, n = 0.0, 0\n",
    "    model.train()\n",
    "    for x, y in train_iter:\n",
    "        y_pred = model(x).view(len(x), -1)\n",
    "        los = loss(y_pred, y)\n",
    "        optimizer.zero_grad()\n",
    "        los.backward()\n",
    "        optimizer.step()\n",
    "        loss_sum += los.item() * y.shape[0]\n",
    "        n += y.shape[0]\n",
    "        \n",
    "    val_loss = evaluate_model(model, loss, val_iter)\n",
    "\n",
    "    print(\"Train loss:\", loss_sum / n)\n",
    "    print(\"Val loss:\", val_loss)"
   ]
  },
  {
   "cell_type": "code",
   "execution_count": 56,
   "metadata": {
    "execution": {
     "iopub.execute_input": "2022-02-08T00:20:14.774283Z",
     "iopub.status.busy": "2022-02-08T00:20:14.773815Z",
     "iopub.status.idle": "2022-02-08T00:20:15.390416Z",
     "shell.execute_reply": "2022-02-08T00:20:15.389674Z",
     "shell.execute_reply.started": "2022-02-08T00:20:14.774244Z"
    }
   },
   "outputs": [],
   "source": [
    "model.eval()\n",
    "    \n",
    "y_preds = list()\n",
    "y_true = list()\n",
    "\n",
    "with torch.no_grad():\n",
    "    for x, y in test_iter:\n",
    "        y = y.cpu().numpy().reshape(-1)\n",
    "        y_pred = model(x).view(len(x), -1).cpu().numpy().reshape(-1)\n",
    "        y *= max_speed\n",
    "        y_pred *= max_speed\n",
    "        y_preds.extend(list(y_pred))\n",
    "        y_true.extend(list(y))\n",
    "        \n",
    "y_preds = np.array(y_preds)\n",
    "y_true = np.array(y_true)\n",
    "y_preds = y_preds.reshape(int(y_preds.shape[0]/304), 304)\n",
    "y_true = y_true.reshape(int(y_true.shape[0]/304), 304)"
   ]
  },
  {
   "cell_type": "code",
   "execution_count": 57,
   "metadata": {
    "execution": {
     "iopub.execute_input": "2022-02-08T00:20:17.291200Z",
     "iopub.status.busy": "2022-02-08T00:20:17.290940Z",
     "iopub.status.idle": "2022-02-08T00:20:17.501162Z",
     "shell.execute_reply": "2022-02-08T00:20:17.500485Z",
     "shell.execute_reply.started": "2022-02-08T00:20:17.291169Z"
    }
   },
   "outputs": [
    {
     "data": {
      "image/png": "[encoded data removed]",
      "text/plain": [
       "<Figure size 720x504 with 1 Axes>"
      ]
     },
     "metadata": {
      "needs_background": "light"
     },
     "output_type": "display_data"
    }
   ],
   "source": [
    "\"\"\"show one sensor time series\"\"\"\n",
    "import matplotlib.pyplot as plt\n",
    "y_sample = y_true[:, 2]\n",
    "y_pred_sample = y_preds[:, 2]\n",
    "\n",
    "plt.figure(figsize=(10,7))\n",
    "plt.plot(range(len(y_sample)), y_sample, label='Ground Truth')\n",
    "plt.plot(range(len(y_pred_sample)), y_pred_sample, label='Predictions')\n",
    "plt.xlabel('Time')\n",
    "plt.ylabel('Speed')\n",
    "plt.legend(loc=\"upper left\")\n",
    "plt.show()"
   ]
  },
  {
   "cell_type": "code",
   "execution_count": 58,
   "metadata": {
    "execution": {
     "iopub.execute_input": "2022-02-08T00:20:25.984120Z",
     "iopub.status.busy": "2022-02-08T00:20:25.983188Z",
     "iopub.status.idle": "2022-02-08T00:20:25.999503Z",
     "shell.execute_reply": "2022-02-08T00:20:25.998745Z",
     "shell.execute_reply.started": "2022-02-08T00:20:25.983999Z"
    }
   },
   "outputs": [
    {
     "name": "stdout",
     "output_type": "stream",
     "text": [
      "RMSE:  4.8107595\n",
      "MAE:  3.4934564\n",
      "MAPE:  15.784184634685516 %\n"
     ]
    }
   ],
   "source": [
    "\"\"\"Overall evaluation the predictions of the test data\"\"\"\n",
    "from sklearn.metrics import mean_squared_error\n",
    "from sklearn.metrics import mean_absolute_error\n",
    "\n",
    "def mean_absolute_percentage_error(y_true, y_pred): \n",
    "    y_true, y_pred = np.array(y_true), np.array(y_pred)\n",
    "    y_true +=  0.000001 #add small values to true velocities to avoid division by zeros\n",
    "    return np.mean(np.abs((y_true - y_pred) / y_true)) * 100\n",
    "\n",
    "print('RMSE: ', np.sqrt(mean_squared_error(y_true, y_preds)))\n",
    "print('MAE: ', mean_absolute_error(y_true, y_preds))\n",
    "print('MAPE: ', mean_absolute_percentage_error(y_true, y_preds), \"%\")"
   ]
  },
  {
   "cell_type": "markdown",
   "metadata": {},
   "source": [
    "# References\n",
    "\n",
    "-  Shin, Y., & Yoon, Y. (2020). Incorporating dynamicity of transportation network with multi-weight traffic graph convolutional network for traffic forecasting. IEEE Transactions on Intelligent Transportation Systems.\n",
    "\n",
    "- Yu, B., Yin, H., & Zhu, Z. (2017). Spatio-temporal graph convolutional networks: A deep learning framework for traffic forecasting. arXiv preprint arXiv:1709.04875.\n",
    "\n",
    "- https://stellargraph.readthedocs.io/en/stable/demos/time-series/gcn-lstm-time-series.html\n",
    "\n",
    "- https://github.com/Aguin/STGCN-PyTorch"
   ]
  }
 ],
 "metadata": {
  "kernelspec": {
   "display_name": "Python 3",
   "language": "python",
   "name": "python3"
  },
  "language_info": {
   "codemirror_mode": {
    "name": "ipython",
    "version": 3
   },
   "file_extension": ".py",
   "mimetype": "text/x-python",
   "name": "python",
   "nbconvert_exporter": "python",
   "pygments_lexer": "ipython3",
   "version": "3.7.4"
  }
 },
 "nbformat": 4,
 "nbformat_minor": 4
}
