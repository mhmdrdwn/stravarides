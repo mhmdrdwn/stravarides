{
 "cells": [
  {
   "cell_type": "markdown",
   "metadata": {
    "papermill": {
     "duration": 0.013494,
     "end_time": "2022-02-03T21:50:15.654033",
     "exception": false,
     "start_time": "2022-02-03T21:50:15.640539",
     "status": "completed"
    },
    "tags": []
   },
   "source": [
    "# Using A3TGCN for speed prediction of the traffic\n",
    "\n",
    "The details about the data is shown in the notebook\n",
    "https://github.com/mhmdrdwn/traffic/blob/main/notebooks/tgcn-seoul-dataset.ipynb\n",
    "\n",
    "The data: https://github.com/yuyolshin/SeoulSpeedData"
   ]
  },
  {
   "cell_type": "code",
   "execution_count": 1,
   "metadata": {
    "execution": {
     "iopub.execute_input": "2022-02-03T21:50:15.683136Z",
     "iopub.status.busy": "2022-02-03T21:50:15.681463Z",
     "iopub.status.idle": "2022-02-03T21:50:15.690282Z",
     "shell.execute_reply": "2022-02-03T21:50:15.690824Z",
     "shell.execute_reply.started": "2022-02-03T21:37:06.381406Z"
    },
    "papermill": {
     "duration": 0.025172,
     "end_time": "2022-02-03T21:50:15.691091",
     "exception": false,
     "start_time": "2022-02-03T21:50:15.665919",
     "status": "completed"
    },
    "tags": []
   },
   "outputs": [],
   "source": [
    "import warnings\n",
    "from IPython.display import clear_output\n",
    "warnings.filterwarnings('ignore')\n",
    "from tqdm import tqdm"
   ]
  },
  {
   "cell_type": "code",
   "execution_count": 2,
   "metadata": {
    "execution": {
     "iopub.execute_input": "2022-02-03T21:50:15.717963Z",
     "iopub.status.busy": "2022-02-03T21:50:15.717092Z",
     "iopub.status.idle": "2022-02-03T22:12:17.806755Z",
     "shell.execute_reply": "2022-02-03T22:12:17.806127Z"
    },
    "papermill": {
     "duration": 1322.104379,
     "end_time": "2022-02-03T22:12:17.806977",
     "exception": false,
     "start_time": "2022-02-03T21:50:15.702598",
     "status": "completed"
    },
    "tags": []
   },
   "outputs": [],
   "source": [
    "import torch\n",
    "pt_version = torch.__version__\n",
    "\n",
    "!pip install torch-scatter -f https://pytorch-geometric.com/whl/torch-${pt_version}.html\n",
    "!pip install torch-sparse -f https://pytorch-geometric.com/whl/torch-${pt_version}.html\n",
    "!pip install torch-cluster -f https://pytorch-geometric.com/whl/torch-${pt_version}.html\n",
    "!pip install torch-spline-conv -f https://pytorch-geometric.com/whl/torch-${pt_version}.html\n",
    "!pip install torch-geometric\n",
    "!pip install torch-geometric-temporal\n",
    "clear_output()"
   ]
  },
  {
   "cell_type": "markdown",
   "metadata": {
    "papermill": {
     "duration": 0.011635,
     "end_time": "2022-02-03T22:12:17.830330",
     "exception": false,
     "start_time": "2022-02-03T22:12:17.818695",
     "status": "completed"
    },
    "tags": []
   },
   "source": [
    "## Using Seoul Urban Core Data"
   ]
  },
  {
   "cell_type": "code",
   "execution_count": 3,
   "metadata": {
    "execution": {
     "iopub.execute_input": "2022-02-03T22:12:17.863342Z",
     "iopub.status.busy": "2022-02-03T22:12:17.862635Z",
     "iopub.status.idle": "2022-02-03T22:12:19.347535Z",
     "shell.execute_reply": "2022-02-03T22:12:19.347997Z"
    },
    "papermill": {
     "duration": 1.506356,
     "end_time": "2022-02-03T22:12:19.348173",
     "exception": false,
     "start_time": "2022-02-03T22:12:17.841817",
     "status": "completed"
    },
    "tags": []
   },
   "outputs": [],
   "source": [
    "import numpy as np\n",
    "import pandas as pd\n",
    "\n",
    "def read_data(features_csv, adj_csv):\n",
    "    urban_core_speeds = pd.read_csv(features_csv, header=None)\n",
    "    adj_matrix_df = pd.read_csv(adj_csv, header=None)\n",
    "    adj_matrix = np.array(adj_matrix_df)\n",
    "\n",
    "    speeds_df = urban_core_speeds.iloc[:, 7:]\n",
    "    speeds = np.array(speeds_df)\n",
    "    \n",
    "    return adj_matrix_df, urban_core_speeds, adj_matrix, speeds\n",
    "\n",
    "adj_matrix_df, urban_core_speeds, adj_matrix, speeds = read_data(\n",
    "    '../input/seoul-speed-data/urban-core.csv', \n",
    "    '../input/seoul-speed-data/Adj(urban-core).csv')"
   ]
  },
  {
   "cell_type": "code",
   "execution_count": 4,
   "metadata": {
    "execution": {
     "iopub.execute_input": "2022-02-03T22:12:19.376219Z",
     "iopub.status.busy": "2022-02-03T22:12:19.375296Z",
     "iopub.status.idle": "2022-02-03T22:12:19.382568Z",
     "shell.execute_reply": "2022-02-03T22:12:19.382148Z"
    },
    "papermill": {
     "duration": 0.02248,
     "end_time": "2022-02-03T22:12:19.382694",
     "exception": false,
     "start_time": "2022-02-03T22:12:19.360214",
     "status": "completed"
    },
    "tags": []
   },
   "outputs": [
    {
     "name": "stdout",
     "output_type": "stream",
     "text": [
      "Train data:  (304, 5832)\n",
      "Test data:  (304, 2160)\n",
      "Val data:  (304, 648)\n"
     ]
    }
   ],
   "source": [
    "\"\"\"Train test split the data\"\"\"\n",
    "train_test_split = 0.75\n",
    "\n",
    "split = int(speeds.shape[1] * train_test_split)\n",
    "train_data = speeds[:, :split-int(0.1*split)]\n",
    "test_data = speeds[:, split:]\n",
    "val_data = speeds[:, split-int(0.1*split):split]\n",
    "\n",
    "print(\"Train data: \", train_data.shape)\n",
    "print(\"Test data: \", test_data.shape)\n",
    "print(\"Val data: \", val_data.shape)"
   ]
  },
  {
   "cell_type": "code",
   "execution_count": 5,
   "metadata": {
    "execution": {
     "iopub.execute_input": "2022-02-03T22:12:19.412960Z",
     "iopub.status.busy": "2022-02-03T22:12:19.411926Z",
     "iopub.status.idle": "2022-02-03T22:12:19.446006Z",
     "shell.execute_reply": "2022-02-03T22:12:19.446430Z"
    },
    "papermill": {
     "duration": 0.051838,
     "end_time": "2022-02-03T22:12:19.446585",
     "exception": false,
     "start_time": "2022-02-03T22:12:19.394747",
     "status": "completed"
    },
    "tags": []
   },
   "outputs": [
    {
     "data": {
      "text/plain": [
       "((304, 5832), (304, 2160), (304, 648))"
      ]
     },
     "execution_count": 5,
     "metadata": {},
     "output_type": "execute_result"
    }
   ],
   "source": [
    "\"\"\"Min max standardizing the data\"\"\"\n",
    "max_speed = train_data.max()\n",
    "min_speed = train_data.min()\n",
    "\n",
    "train_data = (train_data - min_speed) / (max_speed - min_speed)\n",
    "test_data = (test_data - min_speed) / (max_speed - min_speed)\n",
    "val_data = (val_data - min_speed) / (max_speed - min_speed)\n",
    "\n",
    "train_data.shape, test_data.shape, val_data.shape"
   ]
  },
  {
   "cell_type": "markdown",
   "metadata": {
    "papermill": {
     "duration": 0.012236,
     "end_time": "2022-02-03T22:12:19.471296",
     "exception": false,
     "start_time": "2022-02-03T22:12:19.459060",
     "status": "completed"
    },
    "tags": []
   },
   "source": [
    "Here we build the features and labels of the time series, The features vectors are of length 10 while the prediction is the next step in the sequence. The model can predict a sequence too where the preiction length can be more than 10. "
   ]
  },
  {
   "cell_type": "code",
   "execution_count": 6,
   "metadata": {
    "execution": {
     "iopub.execute_input": "2022-02-03T22:12:19.517677Z",
     "iopub.status.busy": "2022-02-03T22:12:19.517086Z",
     "iopub.status.idle": "2022-02-03T22:12:19.714112Z",
     "shell.execute_reply": "2022-02-03T22:12:19.714509Z"
    },
    "papermill": {
     "duration": 0.231133,
     "end_time": "2022-02-03T22:12:19.714674",
     "exception": false,
     "start_time": "2022-02-03T22:12:19.483541",
     "status": "completed"
    },
    "tags": []
   },
   "outputs": [
    {
     "name": "stdout",
     "output_type": "stream",
     "text": [
      "(5822, 304, 1, 10)\n",
      "(5822, 304, 1)\n",
      "(2150, 304, 1, 10)\n",
      "(2150, 304, 1)\n",
      "(638, 304, 1, 10)\n",
      "(638, 304, 1)\n"
     ]
    }
   ],
   "source": [
    "\"\"\"Ref: https://stellargraph.readthedocs.io/en/stable/demos/time-series/gcn-lstm-time-series.html\"\"\"\n",
    "\n",
    "sequence_len = 10\n",
    "prediction_len = 1\n",
    "\n",
    "def build_features_labels(sequence_len, prediction_len, train_data, test_data, val_data):\n",
    "    X_train, Y_train, X_test, Y_test, X_val, Y_val = [], [], [], [], [], []\n",
    "\n",
    "    for i in range(train_data.shape[1] - int(sequence_len + prediction_len - 1)):\n",
    "        a = train_data[:, i : i + sequence_len + prediction_len]\n",
    "        X_train.append(a[:, :sequence_len])\n",
    "        Y_train.append(a[:, sequence_len:sequence_len+prediction_len])\n",
    "\n",
    "    for i in range(test_data.shape[1] - int(sequence_len + prediction_len - 1)):\n",
    "        b = test_data[:, i : i + sequence_len + prediction_len]\n",
    "        X_test.append(b[:, :sequence_len])\n",
    "        Y_test.append(b[:, sequence_len:sequence_len+prediction_len])\n",
    "        \n",
    "    for i in range(val_data.shape[1] - int(sequence_len + prediction_len - 1)):\n",
    "        b = val_data[:, i : i + sequence_len + prediction_len]\n",
    "        X_val.append(b[:, :sequence_len])\n",
    "        Y_val.append(b[:, sequence_len:sequence_len+prediction_len])\n",
    "        \n",
    "    X_train = np.array(X_train)\n",
    "    Y_train = np.array(Y_train)\n",
    "    X_test = np.array(X_test)\n",
    "    Y_test = np.array(Y_test)\n",
    "    X_val = np.array(X_val)\n",
    "    Y_val = np.array(Y_val)\n",
    "    \n",
    "    return X_train, Y_train, X_test, Y_test, X_val, Y_val\n",
    "\n",
    "X_train, Y_train, X_test, Y_test, X_val, Y_val = build_features_labels(sequence_len, \n",
    "                                                                       prediction_len, \n",
    "                                                                       train_data, \n",
    "                                                                       test_data, \n",
    "                                                                       val_data)\n",
    "\n",
    "X_train_shape = X_train.shape\n",
    "X_test_shape = X_test.shape\n",
    "X_val_shape = X_val.shape\n",
    "\n",
    "X_train = X_train.reshape(X_train_shape[0], X_train_shape[1], 1, X_train_shape[2])\n",
    "X_test = X_test.reshape(X_test_shape[0], X_test_shape[1], 1, X_test_shape[2])\n",
    "X_val = X_val.reshape(X_val_shape[0], X_val_shape[1], 1, X_val_shape[2])\n",
    "\n",
    "print(X_train.shape)\n",
    "print(Y_train.shape)\n",
    "print(X_test.shape)\n",
    "print(Y_test.shape)\n",
    "print(X_val.shape)\n",
    "print(Y_val.shape)"
   ]
  },
  {
   "cell_type": "markdown",
   "metadata": {
    "papermill": {
     "duration": 0.012347,
     "end_time": "2022-02-03T22:12:19.739686",
     "exception": false,
     "start_time": "2022-02-03T22:12:19.727339",
     "status": "completed"
    },
    "tags": []
   },
   "source": [
    "We need to convert the input data into graph temporal object to feed to the model in the torch geometric library, The object we use here is Static Graph Temporal Signal. There are other object that are Dynamic. In Dynamic, we expect that the graph changes over time but here the graph topology does not change over time. We take the adjacency matrix and get the indices where there are connections between nodes and call it edge index. Edge attribute is the value of the connection between nodes. Those two are passed along with the traditional X and y (X is 10 steps in time series whie y is the next step in the series)."
   ]
  },
  {
   "cell_type": "code",
   "execution_count": 7,
   "metadata": {
    "execution": {
     "iopub.execute_input": "2022-02-03T22:12:19.773541Z",
     "iopub.status.busy": "2022-02-03T22:12:19.771545Z",
     "iopub.status.idle": "2022-02-03T22:12:26.705258Z",
     "shell.execute_reply": "2022-02-03T22:12:26.704608Z"
    },
    "papermill": {
     "duration": 6.952745,
     "end_time": "2022-02-03T22:12:26.705394",
     "exception": false,
     "start_time": "2022-02-03T22:12:19.752649",
     "status": "completed"
    },
    "tags": []
   },
   "outputs": [
    {
     "name": "stdout",
     "output_type": "stream",
     "text": [
      "Edges shape:  (2, 1696) , Attr shape:  (1696,)\n"
     ]
    }
   ],
   "source": [
    "edges = np.nonzero(adj_matrix)\n",
    "edges = np.vstack([edges, adj_matrix[edges]])\n",
    "edge_index = edges[:2, :].astype(float)\n",
    "edge_attr = edges[2, :].astype(float)\n",
    "print('Edges shape: ', edge_index.shape, ', Attr shape: ',edge_attr.shape)\n",
    "\n",
    "from torch_geometric_temporal.signal import StaticGraphTemporalSignal\n",
    "train_loader = StaticGraphTemporalSignal(edge_index, edge_attr, X_train, Y_train)\n",
    "test_loader = StaticGraphTemporalSignal(edge_index, edge_attr, X_test, Y_test)\n",
    "val_loader = StaticGraphTemporalSignal(edge_index, edge_attr, X_val, Y_val)"
   ]
  },
  {
   "cell_type": "markdown",
   "metadata": {
    "papermill": {
     "duration": 0.013025,
     "end_time": "2022-02-03T22:12:26.731818",
     "exception": false,
     "start_time": "2022-02-03T22:12:26.718793",
     "status": "completed"
    },
    "tags": []
   },
   "source": [
    "The A3TGCN network (Attention Temporal Graph Neural Network) original article is https://arxiv.org/abs/2006.11583, A3TGCN is an extention of TGCN by adding the attention mechanism to assemble global temporal information to improve prediction accuracy. TGCN does not consider Long-term dependencies and the importance of different time points cannot be distinguished (No attention).\n",
    "\n",
    "So GCN captures topology information, LSTM or GRU captures tempral information and attention captures global pattern. A3TGCN attention (soft attention) is used to learn the importance of traffic information at each moment. The result from LSTM or GRU are hidden states at different time steps. A scoring function (i.e. MLP) is designed to calculate the score/weight of each hidden state. An attention function is designed to calculate the context vector that covers the global traffic variation. And the final output results are obtained using the context vector."
   ]
  },
  {
   "cell_type": "code",
   "execution_count": 8,
   "metadata": {
    "execution": {
     "iopub.execute_input": "2022-02-03T22:12:26.766589Z",
     "iopub.status.busy": "2022-02-03T22:12:26.765735Z",
     "iopub.status.idle": "2022-02-03T22:12:27.601293Z",
     "shell.execute_reply": "2022-02-03T22:12:27.601738Z"
    },
    "papermill": {
     "duration": 0.856951,
     "end_time": "2022-02-03T22:12:27.601900",
     "exception": false,
     "start_time": "2022-02-03T22:12:26.744949",
     "status": "completed"
    },
    "tags": []
   },
   "outputs": [
    {
     "data": {
      "image/png": "[encoded data removed]",
      "text/plain": [
       "<Figure size 864x864 with 1 Axes>"
      ]
     },
     "metadata": {},
     "output_type": "display_data"
    }
   ],
   "source": [
    "\"\"\"Ref: https://arxiv.org/abs/2006.11583\"\"\"\n",
    "import matplotlib.pyplot as plt\n",
    "import matplotlib.image as mpimg\n",
    "\n",
    "plt.figure(figsize=(12,12))\n",
    "plt.imshow(mpimg.imread('https://raw.githubusercontent.com/mhmdrdwn/traffic/main/plots/a3tgcn.png'))\n",
    "plt.tick_params(axis='both', which='both', bottom=False, top=False, \n",
    "                left=False,right=False, labelleft=False, labelbottom=False) \n",
    "plt.show()"
   ]
  },
  {
   "cell_type": "code",
   "execution_count": 9,
   "metadata": {
    "execution": {
     "iopub.execute_input": "2022-02-03T22:12:27.641236Z",
     "iopub.status.busy": "2022-02-03T22:12:27.640627Z",
     "iopub.status.idle": "2022-02-03T22:12:27.677416Z",
     "shell.execute_reply": "2022-02-03T22:12:27.677863Z"
    },
    "papermill": {
     "duration": 0.060737,
     "end_time": "2022-02-03T22:12:27.678027",
     "exception": false,
     "start_time": "2022-02-03T22:12:27.617290",
     "status": "completed"
    },
    "tags": []
   },
   "outputs": [
    {
     "data": {
      "text/plain": [
       "TemporalGNN(\n",
       "  (tgnn): A3TGCN(\n",
       "    (_base_tgcn): TGCN(\n",
       "      (conv_z): GCNConv(1, 32)\n",
       "      (linear_z): Linear(in_features=64, out_features=32, bias=True)\n",
       "      (conv_r): GCNConv(1, 32)\n",
       "      (linear_r): Linear(in_features=64, out_features=32, bias=True)\n",
       "      (conv_h): GCNConv(1, 32)\n",
       "      (linear_h): Linear(in_features=64, out_features=32, bias=True)\n",
       "    )\n",
       "  )\n",
       "  (linear): Linear(in_features=32, out_features=1, bias=True)\n",
       ")"
      ]
     },
     "execution_count": 9,
     "metadata": {},
     "output_type": "execute_result"
    }
   ],
   "source": [
    "import torch\n",
    "import torch.nn.functional as F\n",
    "from torch_geometric_temporal.nn.recurrent import A3TGCN\n",
    "\n",
    "device = torch.device(\"cuda\") if torch.cuda.is_available() else torch.device(\"cpu\")\n",
    "\n",
    "class TemporalGNN(torch.nn.Module):\n",
    "    def __init__(self, node_features, periods):\n",
    "        super(TemporalGNN, self).__init__()\n",
    "        # Attention Temporal Graph Convolutional Cell\n",
    "        self.tgnn = A3TGCN(in_channels=node_features, \n",
    "                           out_channels=32, \n",
    "                           periods=periods)\n",
    "        # Equals single-shot prediction\n",
    "        self.linear = torch.nn.Linear(32, periods)\n",
    "\n",
    "    def forward(self, x, edge_index):\n",
    "        \"\"\"\n",
    "        x = Node features for T time steps\n",
    "        edge_index = Graph edge indices\n",
    "        \"\"\"\n",
    "        h = self.tgnn(x, edge_index)\n",
    "        h = F.relu(h)\n",
    "        h = self.linear(h)\n",
    "        return h\n",
    "    \n",
    "\"\"\"Ref: https://colab.research.google.com/drive/132hNQ0voOtTVk3I4scbD3lgmPTQub0KR?usp=sharing#scrollTo=7kOvaOrps2oe\"\"\"\n",
    "TemporalGNN(node_features=1, periods=1)"
   ]
  },
  {
   "cell_type": "code",
   "execution_count": 10,
   "metadata": {
    "execution": {
     "iopub.execute_input": "2022-02-03T22:12:27.715141Z",
     "iopub.status.busy": "2022-02-03T22:12:27.714530Z",
     "iopub.status.idle": "2022-02-03T22:12:27.716024Z",
     "shell.execute_reply": "2022-02-03T22:12:27.716528Z"
    },
    "papermill": {
     "duration": 0.023122,
     "end_time": "2022-02-03T22:12:27.716668",
     "exception": false,
     "start_time": "2022-02-03T22:12:27.693546",
     "status": "completed"
    },
    "tags": []
   },
   "outputs": [],
   "source": [
    "def evaluate_model(model, val_loader):\n",
    "    loss = 0\n",
    "    step = 0\n",
    "    model.eval()\n",
    "    with torch.no_grad():\n",
    "        for snapshot in val_loader:\n",
    "            snapshot = snapshot.to(device)\n",
    "            y_hat = model(snapshot.x, snapshot.edge_index)\n",
    "            loss = loss + torch.mean(torch.abs(y_hat-snapshot.y)) \n",
    "            step += 1\n",
    "            snapshot.detach()\n",
    "            del snapshot\n",
    "            \n",
    "        loss = loss / (step + 1)\n",
    "    \n",
    "    print(\"Val MAE: {:.4f}\".format(loss.item()))\n",
    "    return loss"
   ]
  },
  {
   "cell_type": "code",
   "execution_count": 11,
   "metadata": {
    "execution": {
     "iopub.execute_input": "2022-02-03T22:12:27.750082Z",
     "iopub.status.busy": "2022-02-03T22:12:27.749474Z",
     "iopub.status.idle": "2022-02-03T22:36:38.674536Z",
     "shell.execute_reply": "2022-02-03T22:36:38.675173Z"
    },
    "papermill": {
     "duration": 1450.9432,
     "end_time": "2022-02-03T22:36:38.675366",
     "exception": false,
     "start_time": "2022-02-03T22:12:27.732166",
     "status": "completed"
    },
    "tags": []
   },
   "outputs": [
    {
     "name": "stdout",
     "output_type": "stream",
     "text": [
      "Epoch:  1\n",
      "==========\n",
      "Train MAE: 0.1271\n",
      "Val MAE: 0.1119\n",
      "Epoch:  2\n",
      "==========\n",
      "Train MAE: 0.1077\n",
      "Val MAE: 0.0932\n",
      "Epoch:  3\n",
      "==========\n",
      "Train MAE: 0.0926\n",
      "Val MAE: 0.0802\n",
      "Epoch:  4\n",
      "==========\n",
      "Train MAE: 0.0831\n",
      "Val MAE: 0.0774\n",
      "Epoch:  5\n",
      "==========\n",
      "Train MAE: 0.0826\n",
      "Val MAE: 0.0818\n",
      "Epoch:  6\n",
      "==========\n",
      "Train MAE: 0.0877\n",
      "Val MAE: 0.0824\n",
      "Epoch:  7\n",
      "==========\n",
      "Train MAE: 0.0884\n",
      "Val MAE: 0.0793\n",
      "Epoch:  8\n",
      "==========\n",
      "Train MAE: 0.0849\n",
      "Val MAE: 0.0760\n",
      "Epoch:  9\n",
      "==========\n",
      "Train MAE: 0.0809\n",
      "Val MAE: 0.0748\n",
      "Epoch:  10\n",
      "==========\n",
      "Train MAE: 0.0788\n",
      "Val MAE: 0.0762\n",
      "Epoch:  11\n",
      "==========\n",
      "Train MAE: 0.0793\n",
      "Val MAE: 0.0783\n",
      "Epoch:  12\n",
      "==========\n",
      "Train MAE: 0.0806\n",
      "Val MAE: 0.0792\n",
      "Epoch:  13\n",
      "==========\n",
      "Train MAE: 0.0811\n",
      "Val MAE: 0.0781\n",
      "Epoch:  14\n",
      "==========\n",
      "Train MAE: 0.0800\n",
      "Val MAE: 0.0753\n",
      "Epoch:  15\n",
      "==========\n",
      "Train MAE: 0.0776\n",
      "Val MAE: 0.0717\n",
      "Epoch:  16\n",
      "==========\n",
      "Train MAE: 0.0745\n",
      "Val MAE: 0.0695\n",
      "Epoch:  17\n",
      "==========\n",
      "Train MAE: 0.0728\n",
      "Val MAE: 0.0698\n",
      "Epoch:  18\n",
      "==========\n",
      "Train MAE: 0.0733\n",
      "Val MAE: 0.0704\n",
      "Epoch:  19\n",
      "==========\n",
      "Train MAE: 0.0738\n",
      "Val MAE: 0.0689\n",
      "Epoch:  20\n",
      "==========\n",
      "Train MAE: 0.0720\n",
      "Val MAE: 0.0662\n",
      "Epoch:  21\n",
      "==========\n",
      "Train MAE: 0.0689\n",
      "Val MAE: 0.0648\n",
      "Epoch:  22\n",
      "==========\n",
      "Train MAE: 0.0670\n",
      "Val MAE: 0.0655\n",
      "Epoch:  23\n",
      "==========\n",
      "Train MAE: 0.0671\n",
      "Val MAE: 0.0657\n",
      "Epoch:  24\n",
      "==========\n",
      "Train MAE: 0.0669\n",
      "Val MAE: 0.0637\n",
      "Epoch:  25\n",
      "==========\n",
      "Train MAE: 0.0650\n",
      "Val MAE: 0.0614\n",
      "Epoch:  26\n",
      "==========\n",
      "Train MAE: 0.0628\n",
      "Val MAE: 0.0618\n",
      "Epoch:  27\n",
      "==========\n",
      "Train MAE: 0.0630\n",
      "Val MAE: 0.0630\n",
      "Epoch:  28\n",
      "==========\n",
      "Train MAE: 0.0638\n",
      "Val MAE: 0.0617\n",
      "Epoch:  29\n",
      "==========\n",
      "Train MAE: 0.0624\n",
      "Val MAE: 0.0613\n",
      "Epoch:  30\n",
      "==========\n",
      "Train MAE: 0.0618\n",
      "Val MAE: 0.0629\n",
      "Epoch:  31\n",
      "==========\n",
      "Train MAE: 0.0631\n",
      "Val MAE: 0.0633\n",
      "Epoch:  32\n",
      "==========\n",
      "Train MAE: 0.0633\n",
      "Val MAE: 0.0623\n",
      "Epoch:  33\n",
      "==========\n",
      "Train MAE: 0.0624\n",
      "Val MAE: 0.0627\n",
      "Epoch:  34\n",
      "==========\n",
      "Train MAE: 0.0627\n",
      "Val MAE: 0.0637\n",
      "Epoch:  35\n",
      "==========\n",
      "Train MAE: 0.0635\n",
      "Val MAE: 0.0629\n",
      "Epoch:  36\n",
      "==========\n",
      "Train MAE: 0.0628\n",
      "Val MAE: 0.0623\n",
      "Epoch:  37\n",
      "==========\n",
      "Train MAE: 0.0623\n",
      "Val MAE: 0.0627\n",
      "Epoch:  38\n",
      "==========\n",
      "Train MAE: 0.0627\n",
      "Val MAE: 0.0625\n",
      "Epoch:  39\n",
      "==========\n",
      "Train MAE: 0.0625\n",
      "Val MAE: 0.0616\n",
      "Epoch:  40\n",
      "==========\n",
      "Train MAE: 0.0618\n",
      "Val MAE: 0.0614\n",
      "Epoch:  41\n",
      "==========\n",
      "Train MAE: 0.0617\n",
      "Val MAE: 0.0616\n",
      "Epoch:  42\n",
      "==========\n",
      "Train MAE: 0.0619\n",
      "Val MAE: 0.0613\n",
      "Epoch:  43\n",
      "==========\n",
      "Train MAE: 0.0617\n",
      "Val MAE: 0.0609\n",
      "Epoch:  44\n",
      "==========\n",
      "Train MAE: 0.0614\n",
      "Val MAE: 0.0610\n",
      "Epoch:  45\n",
      "==========\n",
      "Train MAE: 0.0615\n",
      "Val MAE: 0.0612\n",
      "Epoch:  46\n",
      "==========\n",
      "Train MAE: 0.0617\n",
      "Val MAE: 0.0610\n",
      "Epoch:  47\n",
      "==========\n",
      "Train MAE: 0.0616\n",
      "Val MAE: 0.0608\n",
      "Epoch:  48\n",
      "==========\n",
      "Train MAE: 0.0615\n",
      "Val MAE: 0.0609\n",
      "Epoch:  49\n",
      "==========\n",
      "Train MAE: 0.0616\n",
      "Val MAE: 0.0610\n",
      "Epoch:  50\n",
      "==========\n",
      "Train MAE: 0.0617\n",
      "Val MAE: 0.0609\n"
     ]
    }
   ],
   "source": [
    "device = torch.device(\"cuda\") if torch.cuda.is_available() else torch.device(\"cpu\")\n",
    "\n",
    "model = TemporalGNN(node_features=1, periods=1).to(device)\n",
    "# periods = 1 as we predict the next step after the sequence\n",
    "optimizer = torch.optim.Adam(model.parameters(), lr=0.01)\n",
    "\n",
    "train_losses, val_losses = [], []\n",
    "\n",
    "model.train()\n",
    "for epoch in range(50): \n",
    "    print('Epoch: ', epoch+1)\n",
    "    print('==========')\n",
    "    loss = 0\n",
    "    step = 0\n",
    "    for snapshot in train_loader:\n",
    "        snapshot = snapshot.to(device)\n",
    "        y_hat = model(snapshot.x, snapshot.edge_index)\n",
    "        loss = loss + torch.mean(torch.abs(y_hat-snapshot.y)) \n",
    "        step += 1\n",
    "    loss = loss / (step + 1)\n",
    "    train_losses.append(loss.item())\n",
    "    \n",
    "    loss.backward()\n",
    "    optimizer.step()\n",
    "    optimizer.zero_grad()\n",
    "    \n",
    "    print(\"Train MAE: {:.4f}\".format(loss.item()))\n",
    "    \n",
    "    va_loss = evaluate_model(model, val_loader)\n",
    "    val_losses.append(va_loss.item())"
   ]
  },
  {
   "cell_type": "code",
   "execution_count": 12,
   "metadata": {
    "execution": {
     "iopub.execute_input": "2022-02-03T22:36:38.783451Z",
     "iopub.status.busy": "2022-02-03T22:36:38.772043Z",
     "iopub.status.idle": "2022-02-03T22:36:39.013444Z",
     "shell.execute_reply": "2022-02-03T22:36:39.012924Z"
    },
    "papermill": {
     "duration": 0.299586,
     "end_time": "2022-02-03T22:36:39.013590",
     "exception": false,
     "start_time": "2022-02-03T22:36:38.714004",
     "status": "completed"
    },
    "tags": []
   },
   "outputs": [
    {
     "data": {
      "image/png": "[encoded data removed]",
      "text/plain": [
       "<Figure size 720x504 with 1 Axes>"
      ]
     },
     "metadata": {
      "needs_background": "light"
     },
     "output_type": "display_data"
    }
   ],
   "source": [
    "plt.figure(figsize=(10,7))\n",
    "plt.plot(range(len(train_losses)), train_losses, label='Train Loss')\n",
    "plt.plot(range(len(val_losses)), val_losses, label='Val Loss')\n",
    "plt.legend(loc=\"upper left\")\n",
    "plt.show()"
   ]
  },
  {
   "cell_type": "code",
   "execution_count": 13,
   "metadata": {
    "execution": {
     "iopub.execute_input": "2022-02-03T22:36:39.107607Z",
     "iopub.status.busy": "2022-02-03T22:36:39.106722Z",
     "iopub.status.idle": "2022-02-03T22:36:45.471748Z",
     "shell.execute_reply": "2022-02-03T22:36:45.471103Z"
    },
    "papermill": {
     "duration": 6.408727,
     "end_time": "2022-02-03T22:36:45.471883",
     "exception": false,
     "start_time": "2022-02-03T22:36:39.063156",
     "status": "completed"
    },
    "tags": []
   },
   "outputs": [],
   "source": [
    "\"\"\"Make predictions for test data\"\"\"\n",
    "model.eval()\n",
    "y_preds = list()\n",
    "y_true = list()\n",
    "\n",
    "for snapshot in test_loader:\n",
    "\n",
    "    y = snapshot.y.cpu().numpy().reshape(-1)\n",
    "    y_pred = model(snapshot.x, snapshot.edge_index).view(len(snapshot.x), -1).cpu().detach().numpy().reshape(-1)\n",
    "\n",
    "    y = np.array(y * max_speed)\n",
    "    y_pred = np.array((y_pred) * max_speed)\n",
    "    y_preds.extend(list(y_pred))\n",
    "    y_true.extend(list(y))\n",
    "    \n",
    "y_preds = np.array(y_preds)\n",
    "y_true = np.array(y_true)\n",
    "y_preds = y_preds.reshape(int(y_preds.shape[0]/304), 304)\n",
    "y_true = y_true.reshape(int(y_true.shape[0]/304), 304)"
   ]
  },
  {
   "cell_type": "code",
   "execution_count": 14,
   "metadata": {
    "execution": {
     "iopub.execute_input": "2022-02-03T22:36:45.576059Z",
     "iopub.status.busy": "2022-02-03T22:36:45.572588Z",
     "iopub.status.idle": "2022-02-03T22:36:45.723881Z",
     "shell.execute_reply": "2022-02-03T22:36:45.724323Z"
    },
    "papermill": {
     "duration": 0.212795,
     "end_time": "2022-02-03T22:36:45.724480",
     "exception": false,
     "start_time": "2022-02-03T22:36:45.511685",
     "status": "completed"
    },
    "tags": []
   },
   "outputs": [
    {
     "data": {
      "image/png": "[encoded data removed]",
      "text/plain": [
       "<Figure size 720x504 with 1 Axes>"
      ]
     },
     "metadata": {
      "needs_background": "light"
     },
     "output_type": "display_data"
    }
   ],
   "source": [
    "\"\"\"show one sensor time series\"\"\"\n",
    "y_sample = y_true[:, 2]\n",
    "y_pred_sample = y_preds[:, 2]\n",
    "\n",
    "plt.figure(figsize=(10,7))\n",
    "plt.plot(range(len(y_sample)), y_sample, label='Ground Truth')\n",
    "plt.plot(range(len(y_pred_sample)), y_pred_sample, label='Predictions')\n",
    "plt.xlabel('Time')\n",
    "plt.ylabel('Speed')\n",
    "plt.legend(loc=\"upper left\")\n",
    "plt.show()"
   ]
  },
  {
   "cell_type": "code",
   "execution_count": 15,
   "metadata": {
    "execution": {
     "iopub.execute_input": "2022-02-03T22:36:45.813260Z",
     "iopub.status.busy": "2022-02-03T22:36:45.812345Z",
     "iopub.status.idle": "2022-02-03T22:36:46.324608Z",
     "shell.execute_reply": "2022-02-03T22:36:46.325122Z"
    },
    "papermill": {
     "duration": 0.559115,
     "end_time": "2022-02-03T22:36:46.325296",
     "exception": false,
     "start_time": "2022-02-03T22:36:45.766181",
     "status": "completed"
    },
    "tags": []
   },
   "outputs": [
    {
     "name": "stdout",
     "output_type": "stream",
     "text": [
      "RMSE:  7.9751415\n",
      "MAE:  2.45113\n",
      "MAPE:  5.320460582134364 %\n"
     ]
    }
   ],
   "source": [
    "\"\"\"Overall evaluation the predictions of the test data\"\"\"\n",
    "from sklearn.metrics import mean_squared_error\n",
    "from sklearn.metrics import mean_absolute_error\n",
    "\n",
    "def mean_absolute_percentage_error(y_true, y_pred): \n",
    "    y_true, y_pred = np.array(y_true), np.array(y_pred)\n",
    "    y_true +=  0.001 #add small values to true velocities to avoid division by zeros\n",
    "    return np.mean(np.abs((y_true - y_pred) / y_true)) * 100\n",
    "\n",
    "print('RMSE: ', np.sqrt(mean_squared_error(y_true, y_preds)))\n",
    "print('MAE: ', np.sqrt(mean_absolute_error(y_true, y_preds)))\n",
    "print('MAPE: ', np.sqrt(mean_absolute_percentage_error(y_true, y_preds)), \"%\")"
   ]
  },
  {
   "cell_type": "markdown",
   "metadata": {
    "papermill": {
     "duration": 0.043132,
     "end_time": "2022-02-03T22:36:46.765666",
     "exception": false,
     "start_time": "2022-02-03T22:36:46.722534",
     "status": "completed"
    },
    "tags": []
   },
   "source": [
    "# References:\n",
    "\n",
    "- Jiandong Bai, Jiawei Zhu, Yujiao Song, Ling Zhao, Zhixiang Hou, Ronghua Du, Haifeng Li: A3T-GCN: Attention Temporal Graph Convolutional Network for Traffic Forecasting. ISPRS Int. J. Geo Inf. 10(7): 485 (2021)\n",
    "\n",
    "- Shin, Y., & Yoon, Y. (2020). Incorporating dynamicity of transportation network with multi-weight traffic graph convolutional network for traffic forecasting. IEEE Transactions on Intelligent Transportation Systems.\n",
    "\n",
    "- https://stellargraph.readthedocs.io/en/stable/demos/time-series/gcn-lstm-time-series.html\n",
    "\n",
    "\n",
    "- https://colab.research.google.com/drive/132hNQ0voOtTVk3I4scbD3lgmPTQub0KR?usp=sharing#scrollTo=7kOvaOrps2oe"
   ]
  }
 ],
 "metadata": {
  "kernelspec": {
   "display_name": "Python 3",
   "language": "python",
   "name": "python3"
  },
  "language_info": {
   "codemirror_mode": {
    "name": "ipython",
    "version": 3
   },
   "file_extension": ".py",
   "mimetype": "text/x-python",
   "name": "python",
   "nbconvert_exporter": "python",
   "pygments_lexer": "ipython3",
   "version": "3.7.4"
  },
  "papermill": {
   "default_parameters": {},
   "duration": 2802.555512,
   "end_time": "2022-02-03T22:36:50.262000",
   "environment_variables": {},
   "exception": null,
   "input_path": "__notebook__.ipynb",
   "output_path": "__notebook__.ipynb",
   "parameters": {},
   "start_time": "2022-02-03T21:50:07.706488",
   "version": "2.3.3"
  }
 },
 "nbformat": 4,
 "nbformat_minor": 5
}
