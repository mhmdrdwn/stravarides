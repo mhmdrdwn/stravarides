{
 "cells": [
  {
   "cell_type": "markdown",
   "id": "feba869e",
   "metadata": {
    "papermill": {
     "duration": 0.021282,
     "end_time": "2022-02-24T10:19:20.633144",
     "exception": false,
     "start_time": "2022-02-24T10:19:20.611862",
     "status": "completed"
    },
    "tags": []
   },
   "source": [
    "# Using ST-Resnet for prediction of traffic\n",
    "\n",
    "Here we fuse the weather and holidays along with the traffic flow in order to predict the traffic flow in the future\n"
   ]
  },
  {
   "cell_type": "code",
   "execution_count": 1,
   "id": "85158a96",
   "metadata": {
    "_cell_guid": "b1076dfc-b9ad-4769-8c92-a6c4dae69d19",
    "_uuid": "8f2839f25d086af736a60e9eeb907d3b93b6e0e5",
    "execution": {
     "iopub.execute_input": "2022-02-24T10:19:20.683014Z",
     "iopub.status.busy": "2022-02-24T10:19:20.682383Z",
     "iopub.status.idle": "2022-02-24T10:19:20.688122Z",
     "shell.execute_reply": "2022-02-24T10:19:20.688678Z",
     "shell.execute_reply.started": "2022-02-24T09:57:44.639276Z"
    },
    "papermill": {
     "duration": 0.035338,
     "end_time": "2022-02-24T10:19:20.688966",
     "exception": false,
     "start_time": "2022-02-24T10:19:20.653628",
     "status": "completed"
    },
    "tags": []
   },
   "outputs": [],
   "source": [
    "import numpy as np\n",
    "import pandas as pd\n",
    "from tqdm import tqdm"
   ]
  },
  {
   "cell_type": "code",
   "execution_count": 2,
   "id": "ee47838b",
   "metadata": {
    "execution": {
     "iopub.execute_input": "2022-02-24T10:19:20.735327Z",
     "iopub.status.busy": "2022-02-24T10:19:20.734579Z",
     "iopub.status.idle": "2022-02-24T10:19:25.570030Z",
     "shell.execute_reply": "2022-02-24T10:19:25.569347Z",
     "shell.execute_reply.started": "2022-02-24T09:03:51.798121Z"
    },
    "papermill": {
     "duration": 4.861052,
     "end_time": "2022-02-24T10:19:25.570184",
     "exception": false,
     "start_time": "2022-02-24T10:19:20.709132",
     "status": "completed"
    },
    "tags": []
   },
   "outputs": [
    {
     "name": "stdout",
     "output_type": "stream",
     "text": [
      "Cloning into 'ATFM'...\r\n",
      "remote: Enumerating objects: 83, done.\u001b[K\r\n",
      "remote: Total 83 (delta 0), reused 0 (delta 0), pack-reused 83\u001b[K\r\n",
      "Unpacking objects: 100% (83/83), 20.94 MiB | 7.24 MiB/s, done.\r\n"
     ]
    }
   ],
   "source": [
    "\"\"\"The Data is taken from the following repository\"\"\"\n",
    "!git clone https://github.com/liulingbo918/ATFM.git"
   ]
  },
  {
   "cell_type": "code",
   "execution_count": 3,
   "id": "e8ac253b",
   "metadata": {
    "execution": {
     "iopub.execute_input": "2022-02-24T10:19:25.630501Z",
     "iopub.status.busy": "2022-02-24T10:19:25.629818Z",
     "iopub.status.idle": "2022-02-24T10:19:26.368982Z",
     "shell.execute_reply": "2022-02-24T10:19:26.368377Z",
     "shell.execute_reply.started": "2022-02-24T09:03:55.635733Z"
    },
    "papermill": {
     "duration": 0.774221,
     "end_time": "2022-02-24T10:19:26.369151",
     "exception": false,
     "start_time": "2022-02-24T10:19:25.594930",
     "status": "completed"
    },
    "tags": []
   },
   "outputs": [
    {
     "name": "stdout",
     "output_type": "stream",
     "text": [
      "Holiday.txt  Meteorology.h5  NYC2014.h5  README.md\r\n"
     ]
    }
   ],
   "source": [
    "\"\"\"The data consists of 3 components: in/outflow and Holidays and weather data\"\"\"\n",
    "!ls ./ATFM/data/TaxiNYC/"
   ]
  },
  {
   "cell_type": "code",
   "execution_count": 4,
   "id": "e8111c81",
   "metadata": {
    "execution": {
     "iopub.execute_input": "2022-02-24T10:19:26.425471Z",
     "iopub.status.busy": "2022-02-24T10:19:26.424769Z",
     "iopub.status.idle": "2022-02-24T10:19:26.605146Z",
     "shell.execute_reply": "2022-02-24T10:19:26.604568Z",
     "shell.execute_reply.started": "2022-02-24T09:03:56.396052Z"
    },
    "papermill": {
     "duration": 0.211565,
     "end_time": "2022-02-24T10:19:26.605307",
     "exception": false,
     "start_time": "2022-02-24T10:19:26.393742",
     "status": "completed"
    },
    "tags": []
   },
   "outputs": [],
   "source": [
    "import h5py\n",
    "\n",
    "def read_h5(filename):\n",
    "    data = {}\n",
    "    with h5py.File(filename, \"r\") as f:\n",
    "        # List all groups\n",
    "        a_group_key = list(f.keys())\n",
    "        # Get the data\n",
    "        for key in a_group_key:\n",
    "            data[key] = list(f[key])\n",
    "    return data"
   ]
  },
  {
   "cell_type": "code",
   "execution_count": 5,
   "id": "45ec9c47",
   "metadata": {
    "execution": {
     "iopub.execute_input": "2022-02-24T10:19:26.673003Z",
     "iopub.status.busy": "2022-02-24T10:19:26.664832Z",
     "iopub.status.idle": "2022-02-24T10:19:30.021118Z",
     "shell.execute_reply": "2022-02-24T10:19:30.020403Z",
     "shell.execute_reply.started": "2022-02-24T09:03:56.604735Z"
    },
    "papermill": {
     "duration": 3.390739,
     "end_time": "2022-02-24T10:19:30.021263",
     "exception": false,
     "start_time": "2022-02-24T10:19:26.630524",
     "status": "completed"
    },
    "tags": []
   },
   "outputs": [
    {
     "data": {
      "text/plain": [
       "((17520, 2, 15, 5), (17520,))"
      ]
     },
     "execution_count": 5,
     "metadata": {},
     "output_type": "execute_result"
    }
   ],
   "source": [
    "\"\"\"read flow data\"\"\"\n",
    "flow_dir = \"./ATFM/data/TaxiNYC/NYC2014.h5\"\n",
    "data = read_h5(flow_dir)\n",
    "timeslot_data = np.array(data['date'])\n",
    "flow_data = np.array(data['data'])\n",
    "\n",
    "flow_data.shape, timeslot_data.shape"
   ]
  },
  {
   "cell_type": "code",
   "execution_count": 6,
   "id": "1c36e9b6",
   "metadata": {
    "execution": {
     "iopub.execute_input": "2022-02-24T10:19:30.076301Z",
     "iopub.status.busy": "2022-02-24T10:19:30.075196Z",
     "iopub.status.idle": "2022-02-24T10:19:36.123133Z",
     "shell.execute_reply": "2022-02-24T10:19:36.123680Z",
     "shell.execute_reply.started": "2022-02-24T09:03:59.970660Z"
    },
    "papermill": {
     "duration": 6.077427,
     "end_time": "2022-02-24T10:19:36.123856",
     "exception": false,
     "start_time": "2022-02-24T10:19:30.046429",
     "status": "completed"
    },
    "tags": []
   },
   "outputs": [
    {
     "name": "stdout",
     "output_type": "stream",
     "text": [
      "dict_keys(['Temperature', 'Weather', 'WindSpeed', 'date'])\n",
      "(17520, 1) (17520, 17) (17520, 1)\n"
     ]
    }
   ],
   "source": [
    "\"\"\"read weather data\"\"\"\n",
    "meteorology_data_dir = \"./ATFM/data/TaxiNYC/Meteorology.h5\"\n",
    "meteorology_data = read_h5(meteorology_data_dir)\n",
    "print(meteorology_data.keys())\n",
    "temp_data = np.array(meteorology_data['Temperature']).reshape(17520, 1)\n",
    "weather_data = np.array(meteorology_data['Weather'])\n",
    "windspeed_data = np.array(meteorology_data['WindSpeed']).reshape(17520, 1)\n",
    "date_data = np.array(meteorology_data['date']).reshape(17520, 1)\n",
    "print(date_data.shape, weather_data.shape, windspeed_data.shape)"
   ]
  },
  {
   "cell_type": "code",
   "execution_count": 7,
   "id": "f1bbc973",
   "metadata": {
    "execution": {
     "iopub.execute_input": "2022-02-24T10:19:36.184680Z",
     "iopub.status.busy": "2022-02-24T10:19:36.183645Z",
     "iopub.status.idle": "2022-02-24T10:19:37.215614Z",
     "shell.execute_reply": "2022-02-24T10:19:37.215081Z",
     "shell.execute_reply.started": "2022-02-24T10:00:31.767398Z"
    },
    "papermill": {
     "duration": 1.06526,
     "end_time": "2022-02-24T10:19:37.215763",
     "exception": false,
     "start_time": "2022-02-24T10:19:36.150503",
     "status": "completed"
    },
    "tags": []
   },
   "outputs": [
    {
     "name": "stderr",
     "output_type": "stream",
     "text": [
      "100%|██████████| 100/100 [00:01<00:00, 98.45it/s]\n"
     ]
    }
   ],
   "source": [
    "import time\n",
    "pbar = tqdm(total=100)\n",
    "for i in range(10):\n",
    "    time.sleep(0.1)\n",
    "    pbar.update(10)\n",
    "pbar.close()\n"
   ]
  },
  {
   "cell_type": "code",
   "execution_count": 8,
   "id": "79019878",
   "metadata": {
    "execution": {
     "iopub.execute_input": "2022-02-24T10:19:37.422756Z",
     "iopub.status.busy": "2022-02-24T10:19:37.280613Z",
     "iopub.status.idle": "2022-02-24T10:19:37.451982Z",
     "shell.execute_reply": "2022-02-24T10:19:37.452548Z",
     "shell.execute_reply.started": "2022-02-24T10:01:41.852322Z"
    },
    "papermill": {
     "duration": 0.206305,
     "end_time": "2022-02-24T10:19:37.452723",
     "exception": false,
     "start_time": "2022-02-24T10:19:37.246418",
     "status": "completed"
    },
    "tags": []
   },
   "outputs": [],
   "source": [
    "\"\"\"Modified after: https://github.com/Mouradost/ASTIR\"\"\"\n",
    "\n",
    "def load_holiday(timeslots):\n",
    "    fname='./ATFM/data/TaxiNYC/Holiday.txt'\n",
    "    f = open(fname, 'r')\n",
    "    holidays = f.readlines()\n",
    "    holidays = set([h.strip() for h in holidays])\n",
    "    H = np.zeros(len(timeslots))\n",
    "    for i, slot in enumerate(timeslots):\n",
    "        if slot[:8] in holidays:\n",
    "            H[i] = 1\n",
    "    return H[:, None]\n",
    "\n",
    "\n",
    "def load_meteorol(timeslots):\n",
    "    fname = \"./ATFM/data/TaxiNYC/Meteorology.h5\"\n",
    "    data  = read_h5(fname)\n",
    "    Timeslot = np.array(data['date'])\n",
    "    WindSpeed = np.array(data['WindSpeed'])\n",
    "    Weather = np.array(data['Weather'])\n",
    "    Temperature = np.array(data['Temperature'])\n",
    "\n",
    "    M = dict() \n",
    "    for i, slot in enumerate(Timeslot):\n",
    "        M[slot] = i\n",
    "\n",
    "    \"\"\"make weather, windspeed and tempreature arrays\n",
    "       based on the time slots\"\"\"\n",
    "    WS = []  # WindSpeed\n",
    "    WR = []  # Weather\n",
    "    TE = []  # Temperature\n",
    "    \n",
    "    for slot in timeslots:\n",
    "        predicted_id = M[slot]\n",
    "        cur_id = predicted_id - 1\n",
    "        WS.append(WindSpeed[cur_id])\n",
    "        WR.append(Weather[cur_id])\n",
    "        TE.append(Temperature[cur_id])\n",
    "\n",
    "    WS = np.asarray(WS)\n",
    "    WR = np.asarray(WR)\n",
    "    TE = np.asarray(TE)\n",
    "\n",
    "    #standardize\n",
    "    WS = (WS - WS.min()) / (WS.max() - WS.min())\n",
    "    TE = (TE - TE.min()) / (TE.max() - TE.min())\n",
    "    merge_data = np.hstack([WR, WS[:, None], TE[:, None]])\n",
    "    return merge_data\n",
    "\n",
    "\n",
    "class STMatrix(object):\n",
    "    def __init__(self, data, timestamps, T=48):\n",
    "        super(STMatrix, self).__init__()\n",
    "        \n",
    "        self.data = data\n",
    "        self.timestamps = timestamps\n",
    "        self.T = T\n",
    "        self.pd_timestamps = string2timestamp(timestamps, T=self.T)\n",
    "        self.make_index()\n",
    "\n",
    "    def make_index(self):\n",
    "        self.get_index = dict()\n",
    "        for i, ts in enumerate(self.pd_timestamps):\n",
    "            self.get_index[ts] = i\n",
    "\n",
    "    def check_complete(self):\n",
    "        missing_timestamps = []\n",
    "        offset = pd.DateOffset(minutes=24 * 60 // self.T)\n",
    "        pd_timestamps = self.pd_timestamps\n",
    "        i = 1\n",
    "        while i < len(pd_timestamps):\n",
    "            if pd_timestamps[i-1] + offset != pd_timestamps[i]:\n",
    "                missing_timestamps.append(\"(%s -- %s)\" % (pd_timestamps[i-1], pd_timestamps[i]))\n",
    "            i += 1\n",
    "        for v in missing_timestamps:\n",
    "            print(v)\n",
    "        assert len(missing_timestamps) == 0\n",
    "\n",
    "    def get_matrix(self, timestamp):\n",
    "        return self.data[self.get_index[timestamp]]\n",
    "\n",
    "    def save(self, fname):\n",
    "        pass\n",
    "\n",
    "    def check_it(self, depends):\n",
    "        for d in depends:\n",
    "            if d not in self.get_index.keys():\n",
    "                return False\n",
    "        return True\n",
    "\n",
    "    def create_dataset(self, len_closeness=3, len_trend=3, TrendInterval=7, len_period=3, PeriodInterval=1):\n",
    "        offset_frame = pd.DateOffset(minutes=24 * 60 // self.T)\n",
    "        XC = []\n",
    "        XP = []\n",
    "        XT = []\n",
    "        Y = []\n",
    "        timestamps_Y = []\n",
    "        depends = [range(1, len_closeness+1),\n",
    "                   [PeriodInterval * self.T * j for j in range(1, len_period+1)],\n",
    "                   [TrendInterval * self.T * j for j in range(1, len_trend+1)]]\n",
    "        i = max(self.T * TrendInterval * len_trend, self.T * PeriodInterval * len_period, len_closeness)\n",
    "\n",
    "        \n",
    "        progress_bar = tqdm(total = len(self.pd_timestamps)+1)\n",
    "        \n",
    "        while i < len(self.pd_timestamps):\n",
    "            Flag = True\n",
    "            for depend in depends:\n",
    "                if Flag is False:\n",
    "                    break\n",
    "                Flag = self.check_it([self.pd_timestamps[i] - j * offset_frame for j in depend])\n",
    "\n",
    "            if Flag is False:\n",
    "                i += 1\n",
    "                continue\n",
    "            x_c = [self.get_matrix(self.pd_timestamps[i] - j * offset_frame) for j in depends[0]]\n",
    "            x_p = [self.get_matrix(self.pd_timestamps[i] - j * offset_frame) for j in depends[1]]\n",
    "            x_t = [self.get_matrix(self.pd_timestamps[i] - j * offset_frame) for j in depends[2]]\n",
    "            y = self.get_matrix(self.pd_timestamps[i])\n",
    "            if len_closeness > 0:\n",
    "                XC.append(np.vstack(x_c))\n",
    "            if len_period > 0:\n",
    "                XP.append(np.vstack(x_p))\n",
    "            if len_trend > 0:\n",
    "                XT.append(np.vstack(x_t))\n",
    "            Y.append(y)\n",
    "            timestamps_Y.append(self.timestamps[i])\n",
    "            i += 1\n",
    "            progress_bar.update(1)\n",
    "            \n",
    "        XC = np.asarray(XC)\n",
    "        XP = np.asarray(XP)\n",
    "        XT = np.asarray(XT)\n",
    "        Y = np.asarray(Y)\n",
    "    \n",
    "        XC = XC.reshape(XC.shape[0], int(XC.shape[1]/2), 2, XC.shape[2], XC.shape[3])\n",
    "        XP = XP.reshape(XP.shape[0], int(XP.shape[1]/2), 2, XP.shape[2], XP.shape[3])\n",
    "        XT = XT.reshape(XT.shape[0], int(XT.shape[1]/2), 2, XT.shape[2], XT.shape[3])\n",
    "        Y = Y.reshape(Y.shape[0], 2, Y.shape[2], Y.shape[3])\n",
    "        return XC, XP, XT, Y, timestamps_Y\n",
    "\n",
    "\n",
    "\n",
    "def load_data(T=48, len_closeness=None, len_period=None, \n",
    "              len_trend=None, len_test=4032):\n",
    "    \n",
    "    # read fow data\n",
    "    fname = \"./ATFM/data/TaxiNYC/NYC2014.h5\"\n",
    "    data  = read_h5(fname)\n",
    "    timestamps = np.array(data['date'])\n",
    "    data = np.array(data['data'])\n",
    "    \n",
    "\n",
    "    # Min max standardize\n",
    "    minimum = data.min()\n",
    "    maximum = data.max()\n",
    "    data = (data - minimum) / (maximum - minimum)\n",
    "    \n",
    "    \n",
    "    XC, XP, XT = [], [], []\n",
    "    Y = []\n",
    "    st = STMatrix(data, timestamps, T)\n",
    "    XC, XP, XT, Y, timestamps_Y = st.create_dataset(len_closeness=len_closeness, \n",
    "                                                    len_period=len_period, \n",
    "                                                    len_trend=len_trend)\n",
    "\n",
    "    ext_feature = []\n",
    "    \n",
    "    # load holiday\n",
    "    holiday_feature = load_holiday(timestamps_Y)\n",
    "    ext_feature.append(holiday_feature)\n",
    "\n",
    "    # load meteorol data\n",
    "    meteorol_feature = load_meteorol(timestamps_Y)\n",
    "    ext_feature.append(meteorol_feature)\n",
    "\n",
    "    if len(ext_feature) > 0:\n",
    "        ext_feature = np.hstack(ext_feature)\n",
    "    else:\n",
    "        ext_feature = np.asarray(ext_feature) \n",
    "    \n",
    "    print('holiday feature:', holiday_feature.shape)\n",
    "    print('meteorol feature: ', meteorol_feature.shape)\n",
    "    print('ext feature: ', ext_feature.shape)\n",
    "\n",
    "    XC_train = XC[:-1*len_test] \n",
    "    XP_train = XP[:-1*len_test]\n",
    "    XT_train = XT[:-1*len_test]\n",
    "    Y_train = Y[:-1*len_test]\n",
    "    \n",
    "    XC_test = XC[-1*len_test:]\n",
    "    XP_test = XP[-1*len_test:]\n",
    "    XT_test = XT[-1*len_test:]\n",
    "    Y_test = Y[-1*len_test:]\n",
    "\n",
    "    X_train = []\n",
    "    X_test = []\n",
    "    \n",
    "    for X in [XC_train, XP_train, XT_train]:\n",
    "        X_train.append(X)\n",
    "    for X in [XC_test, XP_test, XT_test]:\n",
    "        X_test.append(X)\n",
    "\n",
    "    ext_feature_train, ext_feature_test = ext_feature[:-len_test], ext_feature[-len_test:]\n",
    "    X_train.append(ext_feature_train)\n",
    "    X_test.append(ext_feature_test)\n",
    "    \n",
    "    return X_train, Y_train, X_test, Y_test, minimum, maximum\n",
    "        \n",
    "\n",
    "def string2timestamp(strings, T=48):\n",
    "    timestamps = []\n",
    "    time_per_slot = 24.0 / T\n",
    "    num_per_T = T // 24\n",
    "    for t in strings:\n",
    "        year, month, day, slot = int(t[:4]), int(t[4:6]), int(t[6:8]), int(t[8:])-1\n",
    "        timestamps.append(pd.Timestamp(\n",
    "            datetime(year, month, day, hour=int(slot * time_per_slot), \n",
    "                     minute=(slot % num_per_T) * int(60.0 * time_per_slot))))\n",
    "    return timestamps"
   ]
  },
  {
   "cell_type": "code",
   "execution_count": 9,
   "id": "2aff1765",
   "metadata": {
    "collapsed": true,
    "execution": {
     "iopub.execute_input": "2022-02-24T10:19:37.525670Z",
     "iopub.status.busy": "2022-02-24T10:19:37.515824Z",
     "iopub.status.idle": "2022-02-24T10:26:12.953678Z",
     "shell.execute_reply": "2022-02-24T10:26:12.954265Z",
     "shell.execute_reply.started": "2022-02-24T10:12:08.871714Z"
    },
    "jupyter": {
     "outputs_hidden": true
    },
    "papermill": {
     "duration": 395.471628,
     "end_time": "2022-02-24T10:26:12.954464",
     "exception": false,
     "start_time": "2022-02-24T10:19:37.482836",
     "status": "completed"
    },
    "tags": []
   },
   "outputs": [
    {
     "name": "stderr",
     "output_type": "stream",
     "text": [
      " 94%|█████████▍| 16512/17521 [06:25<00:23, 42.82it/s]\n"
     ]
    },
    {
     "name": "stdout",
     "output_type": "stream",
     "text": [
      "holiday feature: (16512, 1)\n",
      "meteorol feature:  (16512, 19)\n",
      "ext feature:  (16512, 20)\n",
      "Train Data\n",
      "closeness:  (11520, 3, 2, 15, 5)\n",
      "period:  (11520, 3, 2, 15, 5)\n",
      "trend:  (11520, 3, 2, 15, 5)\n",
      "external:  (11520, 20)\n",
      "ext dim:  20\n",
      "labels:  (11520, 2, 15, 5)\n",
      "Val Data\n",
      "closeness:  (960, 3, 2, 15, 5)\n",
      "period:  (960, 3, 2, 15, 5)\n",
      "trend:  (960, 3, 2, 15, 5)\n",
      "external:  (960, 20)\n",
      "ext dim:  20\n",
      "labels:  (960, 2, 15, 5)\n"
     ]
    }
   ],
   "source": [
    "import time\n",
    "import pandas as pd\n",
    "from datetime import datetime\n",
    "\n",
    "X_train, Y_train, X_test, Y_test, minimum, maximum = load_data(len_closeness=3, len_period=3, len_trend=3)\n",
    "\n",
    "\"\"\"build validation data from train data\"\"\"\n",
    "X_train = [X_train[0][:-960], X_train[1][:-960],X_train[2][:-960], X_train[3][:-960]]\n",
    "Y_train = Y_train[:-960]\n",
    "X_val = [X_train[0][-960:], X_train[1][-960:],X_train[2][-960:], X_train[3][-960:]]\n",
    "Y_val = Y_train[-960:]\n",
    "\n",
    "print('Train Data')\n",
    "print('closeness: ', X_train[0].shape)\n",
    "print('period: ', X_train[1].shape)\n",
    "print('trend: ', X_train[2].shape) \n",
    "print('external: ',X_train[3].shape)\n",
    "print('ext dim: ',X_train[3].shape[1])\n",
    "print('labels: ',Y_train.shape)\n",
    "\n",
    "print('Val Data')\n",
    "print('closeness: ', X_val[0].shape)\n",
    "print('period: ', X_val[1].shape)\n",
    "print('trend: ', X_val[2].shape) \n",
    "print('external: ',X_val[3].shape)\n",
    "print('ext dim: ',X_val[3].shape[1])\n",
    "print('labels: ',Y_val.shape)"
   ]
  },
  {
   "cell_type": "code",
   "execution_count": 10,
   "id": "2e710877",
   "metadata": {
    "execution": {
     "iopub.execute_input": "2022-02-24T10:26:15.489262Z",
     "iopub.status.busy": "2022-02-24T10:26:15.488531Z",
     "iopub.status.idle": "2022-02-24T10:26:16.674029Z",
     "shell.execute_reply": "2022-02-24T10:26:16.674584Z",
     "shell.execute_reply.started": "2022-02-24T10:08:36.912266Z"
    },
    "papermill": {
     "duration": 2.492692,
     "end_time": "2022-02-24T10:26:16.674780",
     "exception": false,
     "start_time": "2022-02-24T10:26:14.182088",
     "status": "completed"
    },
    "tags": []
   },
   "outputs": [],
   "source": [
    "\"\"\"Build data loaders with batch size\"\"\"\n",
    "import torch\n",
    "device = torch.device(\"cuda\" if torch.cuda.is_available() else \"cpu\")\n",
    "\n",
    "c_X_train = torch.Tensor(X_train[0]).to(device)\n",
    "p_X_train = torch.Tensor(X_train[1]).to(device)\n",
    "t_X_train = torch.Tensor(X_train[2]).to(device)\n",
    "ex_X_train = torch.Tensor(X_train[3]).to(device)\n",
    "c_X_val = torch.Tensor(X_val[0]).to(device)\n",
    "p_X_val = torch.Tensor(X_val[1]).to(device)\n",
    "t_X_val = torch.Tensor(X_val[2]).to(device)\n",
    "ex_X_val = torch.Tensor(X_val[3]).to(device)\n",
    "c_X_test = torch.Tensor(X_test[0]).to(device)\n",
    "p_X_test = torch.Tensor(X_test[1]).to(device)\n",
    "t_X_test = torch.Tensor(X_test[2]).to(device)\n",
    "ex_X_test = torch.Tensor(X_test[3]).to(device)\n",
    "Y_train = torch.Tensor(Y_train).to(device)\n",
    "Y_val = torch.Tensor(Y_val).to(device)\n",
    "Y_test = torch.Tensor(Y_test).to(device)\n",
    "\n",
    "batch_size = 32\n",
    "train_data = torch.utils.data.TensorDataset(c_X_train, p_X_train,t_X_train, ex_X_train , Y_train)\n",
    "train_iter = torch.utils.data.DataLoader(train_data, batch_size)\n",
    "val_data = torch.utils.data.TensorDataset(c_X_val, p_X_val,t_X_val, ex_X_val , Y_val)\n",
    "val_iter = torch.utils.data.DataLoader(val_data, batch_size)\n",
    "test_data = torch.utils.data.TensorDataset(c_X_test, p_X_test, t_X_test, ex_X_test , Y_test)\n",
    "test_iter = torch.utils.data.DataLoader(test_data, batch_size)"
   ]
  },
  {
   "cell_type": "code",
   "execution_count": 11,
   "id": "63e3ad88",
   "metadata": {
    "execution": {
     "iopub.execute_input": "2022-02-24T10:26:19.183429Z",
     "iopub.status.busy": "2022-02-24T10:26:19.177620Z",
     "iopub.status.idle": "2022-02-24T10:26:19.210499Z",
     "shell.execute_reply": "2022-02-24T10:26:19.211053Z",
     "shell.execute_reply.started": "2022-02-24T10:08:43.530689Z"
    },
    "papermill": {
     "duration": 1.303097,
     "end_time": "2022-02-24T10:26:19.211248",
     "exception": false,
     "start_time": "2022-02-24T10:26:17.908151",
     "status": "completed"
    },
    "tags": []
   },
   "outputs": [],
   "source": [
    "import torch.nn as nn\n",
    "from collections import OrderedDict\n",
    "\n",
    "def conv3x3(in_channels, out_channels, stride=1):\n",
    "    return nn.Conv2d(in_channels, out_channels, kernel_size=3,\n",
    "                     stride=stride, padding=1, bias= True)\n",
    "\n",
    "class _bn_relu_conv(nn.Module):\n",
    "    def __init__(self, nb_filter, bn = False):\n",
    "        super(_bn_relu_conv, self).__init__()\n",
    "        self.has_bn = bn\n",
    "        self.relu = torch.relu\n",
    "        self.conv1 = conv3x3(nb_filter, nb_filter)\n",
    "\n",
    "    def forward(self, x):\n",
    "        x = self.relu(x)\n",
    "        x = self.conv1(x)\n",
    "\n",
    "        return x\n",
    "\n",
    "class _residual_unit(nn.Module):\n",
    "    def __init__(self, nb_filter, bn=False):\n",
    "        super(_residual_unit, self).__init__()\n",
    "        self.bn_relu_conv1 = _bn_relu_conv(nb_filter, bn)\n",
    "        self.bn_relu_conv2 = _bn_relu_conv(nb_filter, bn)\n",
    "\n",
    "    def forward(self, x):\n",
    "        residual = x\n",
    "        out = self.bn_relu_conv1(x)\n",
    "        out = self.bn_relu_conv2(out)\n",
    "        out += residual # residual connection\n",
    "        return out\n",
    "\n",
    "class ResUnits(nn.Module):\n",
    "    def __init__(self, residual_unit, nb_filter, repetations=1):\n",
    "        super(ResUnits, self).__init__()\n",
    "        self.stacked_resunits = self.make_stack_resunits(residual_unit, nb_filter, repetations)\n",
    "\n",
    "    def make_stack_resunits(self, residual_unit, nb_filter, repetations):\n",
    "        layers = []\n",
    "        for i in range(repetations):\n",
    "            layers.append(residual_unit(nb_filter))\n",
    "        return nn.Sequential(*layers)\n",
    "\n",
    "    def forward(self, x):\n",
    "        x = self.stacked_resunits(x)\n",
    "\n",
    "        return x\n",
    "\n",
    "class TrainableEltwiseLayer(nn.Module):\n",
    "    def __init__(self, n, h, w):\n",
    "        super(TrainableEltwiseLayer, self).__init__()\n",
    "        self.weights = nn.Parameter(torch.randn(1, n, h, w),\n",
    "                                    requires_grad = True)  # define the trainable parameter\n",
    "\n",
    "    def forward(self, x):\n",
    "        x = x * self.weights \n",
    "        # element-wise fusion\n",
    "        return x\n",
    "\n",
    "class stresnet(nn.Module):\n",
    "    def __init__(self, c_conf=(3, 2, 15, 5), p_conf=(4, 2, 15, 5),\n",
    "                 t_conf=(4, 2, 15, 5), external_dim=28, nb_residual_unit=3):\n",
    "\n",
    "        super(stresnet, self).__init__()\n",
    "\n",
    "        self.external_dim = external_dim\n",
    "        self.nb_residual_unit = nb_residual_unit\n",
    "        self.c_conf = c_conf\n",
    "        self.p_conf = p_conf\n",
    "        self.t_conf = t_conf\n",
    "\n",
    "        self.nb_flow, self.map_height, self.map_width = t_conf[1], t_conf[2], t_conf[3]\n",
    "\n",
    "        self.relu = torch.relu\n",
    "        self.tanh = torch.tanh\n",
    "        self.quantiles = [0.1, 0.25, 0.5, 0.75, 0.9]\n",
    "        self.qr_nums = len(self.quantiles)\n",
    "\n",
    "        if self.c_conf is not None:\n",
    "            self.c_way = self.make_one_way(in_channels = self.c_conf[0] * self.nb_flow)\n",
    "\n",
    "        # Branch p\n",
    "        if self.p_conf is not None:\n",
    "            self.p_way = self.make_one_way(in_channels = self.p_conf[0] * self.nb_flow)\n",
    "\n",
    "        # Branch t\n",
    "        if self.t_conf is not None:\n",
    "            self.t_way = self.make_one_way(in_channels = self.t_conf[0] * self.nb_flow)\n",
    "\n",
    "        # Operations of external component\n",
    "        if self.external_dim != None and self.external_dim > 0:\n",
    "            self.external_ops = nn.Sequential(OrderedDict([\n",
    "            ('embd', nn.Linear(self.external_dim, 10, bias = True)),\n",
    "                ('relu1', nn.ReLU()),\n",
    "            ('fc', nn.Linear(10, self.nb_flow * self.map_height * self.map_width, bias = True)),\n",
    "                ('relu2', nn.ReLU()),\n",
    "            ]))\n",
    "\n",
    "    def make_one_way(self, in_channels):\n",
    "\n",
    "        return nn.Sequential(OrderedDict([\n",
    "            ('conv1', conv3x3(in_channels = in_channels, out_channels = 64)),\n",
    "            ('ResUnits', ResUnits(_residual_unit, nb_filter = 64, repetations = self.nb_residual_unit)),\n",
    "            ('relu', nn.ReLU()),\n",
    "            ('conv2', conv3x3(in_channels = 64, out_channels = 2)),\n",
    "            ('FusionLayer', TrainableEltwiseLayer(n = self.nb_flow, h = self.map_height, w = self.map_width))\n",
    "        ]))\n",
    "\n",
    "    def forward(self, input_c, input_p, input_t, input_ext):\n",
    "        # Three-way Convolution\n",
    "        main_output = 0\n",
    "        if self.c_conf is not None:\n",
    "            input_c = input_c.view(-1, self.c_conf[0]*2, self.map_height, self.map_width)\n",
    "            out_c = self.c_way(input_c)\n",
    "            main_output += out_c\n",
    "        if self.p_conf is not None:\n",
    "            input_p = input_p.view(-1, self.p_conf[0]*2, self.map_height, self.map_width)\n",
    "            out_p = self.p_way(input_p)\n",
    "            main_output += out_p\n",
    "        if self.t_conf is not None:\n",
    "            input_t = input_t.view(-1, self.t_conf[0]*2, self.map_height, self.map_width)\n",
    "            out_t = self.t_way(input_t)\n",
    "            main_output += out_t\n",
    "\n",
    "        if self.external_dim != None and self.external_dim > 0:\n",
    "            external_output = self.external_ops(input_ext)\n",
    "            external_output = self.relu(external_output)\n",
    "            external_output = external_output.view(-1, self.nb_flow, self.map_height, self.map_width)\n",
    "            main_output += external_output\n",
    "\n",
    "        else:\n",
    "            print('external_dim:', external_dim)\n",
    "\n",
    "\n",
    "        main_output = self.tanh(main_output)\n",
    "\n",
    "        return main_output"
   ]
  },
  {
   "cell_type": "code",
   "execution_count": 12,
   "id": "0bcf57c5",
   "metadata": {
    "execution": {
     "iopub.execute_input": "2022-02-24T10:26:21.648814Z",
     "iopub.status.busy": "2022-02-24T10:26:21.647839Z",
     "iopub.status.idle": "2022-02-24T10:26:21.692388Z",
     "shell.execute_reply": "2022-02-24T10:26:21.692869Z",
     "shell.execute_reply.started": "2022-02-24T10:18:38.693203Z"
    },
    "papermill": {
     "duration": 1.261408,
     "end_time": "2022-02-24T10:26:21.693054",
     "exception": false,
     "start_time": "2022-02-24T10:26:20.431646",
     "status": "completed"
    },
    "tags": []
   },
   "outputs": [],
   "source": [
    "c_data_shape = (3, 2, 15, 5)\n",
    "p_data_shape = (3, 2, 15, 5)\n",
    "t_data_shape = (3, 2, 15, 5)\n",
    "st_resnet = stresnet(c_data_shape, p_data_shape, t_data_shape, external_dim=20, nb_residual_unit=4)\n",
    "st_resnet.to(device)\n",
    "loss_fn = nn.MSELoss()\n",
    "optimizer = torch.optim.Adam(st_resnet.parameters(), lr=0.001)"
   ]
  },
  {
   "cell_type": "code",
   "execution_count": 13,
   "id": "38949456",
   "metadata": {
    "execution": {
     "iopub.execute_input": "2022-02-24T10:26:24.139348Z",
     "iopub.status.busy": "2022-02-24T10:26:24.138265Z",
     "iopub.status.idle": "2022-02-24T10:26:24.140527Z",
     "shell.execute_reply": "2022-02-24T10:26:24.140961Z",
     "shell.execute_reply.started": "2022-02-24T10:08:57.545240Z"
    },
    "papermill": {
     "duration": 1.22513,
     "end_time": "2022-02-24T10:26:24.141147",
     "exception": false,
     "start_time": "2022-02-24T10:26:22.916017",
     "status": "completed"
    },
    "tags": []
   },
   "outputs": [],
   "source": [
    "def validate(model):\n",
    "    model.eval()\n",
    "    losses = []\n",
    "    with torch.no_grad():\n",
    "        for X_c, X_p, X_t, X_ext, Y in val_iter:\n",
    "            outputs = model(X_c, X_p, X_t, X_ext)\n",
    "            loss = loss_fn(outputs.cpu(), Y.cpu())\n",
    "            losses.append(loss)\n",
    "    mean_loss = np.mean(losses)\n",
    "    return mean_loss"
   ]
  },
  {
   "cell_type": "code",
   "execution_count": 14,
   "id": "ad5aceff",
   "metadata": {
    "execution": {
     "iopub.execute_input": "2022-02-24T10:26:26.688289Z",
     "iopub.status.busy": "2022-02-24T10:26:26.687333Z",
     "iopub.status.idle": "2022-02-24T10:57:02.643786Z",
     "shell.execute_reply": "2022-02-24T10:57:02.644548Z"
    },
    "papermill": {
     "duration": 1837.290905,
     "end_time": "2022-02-24T10:57:02.644781",
     "exception": false,
     "start_time": "2022-02-24T10:26:25.353876",
     "status": "completed"
    },
    "tags": []
   },
   "outputs": [
    {
     "name": "stdout",
     "output_type": "stream",
     "text": [
      "Epoch:  1\n",
      "=========\n",
      "Train Loss:  0.0017442019403663127\n",
      "Val Loss:  0.00035933426\n",
      "Epoch:  2\n",
      "=========\n",
      "Train Loss:  0.000362993341594928\n",
      "Val Loss:  0.00029336373\n",
      "Epoch:  3\n",
      "=========\n",
      "Train Loss:  0.0002778905390490157\n",
      "Val Loss:  0.00026357465\n",
      "Epoch:  4\n",
      "=========\n",
      "Train Loss:  0.00024547753294730984\n",
      "Val Loss:  0.00020125053\n",
      "Epoch:  5\n",
      "=========\n",
      "Train Loss:  0.00020860045862920945\n",
      "Val Loss:  0.00018563127\n",
      "Epoch:  6\n",
      "=========\n",
      "Train Loss:  0.00018827441562178945\n",
      "Val Loss:  0.00017515132\n",
      "Epoch:  7\n",
      "=========\n",
      "Train Loss:  0.0001738555606304241\n",
      "Val Loss:  0.00017026487\n",
      "Epoch:  8\n",
      "=========\n",
      "Train Loss:  0.0001655072995870594\n",
      "Val Loss:  0.00016568725\n",
      "Epoch:  9\n",
      "=========\n",
      "Train Loss:  0.00015872081278050447\n",
      "Val Loss:  0.00015663347\n",
      "Epoch:  10\n",
      "=========\n",
      "Train Loss:  0.00015660217983774297\n",
      "Val Loss:  0.00014979535\n",
      "Epoch:  11\n",
      "=========\n",
      "Train Loss:  0.0001497667450267828\n",
      "Val Loss:  0.00015071509\n",
      "Epoch:  12\n",
      "=========\n",
      "Train Loss:  0.0001457087641938415\n",
      "Val Loss:  0.000141128\n",
      "Epoch:  13\n",
      "=========\n",
      "Train Loss:  0.0001482434348771575\n",
      "Val Loss:  0.00014253563\n",
      "Epoch:  14\n",
      "=========\n",
      "Train Loss:  0.00013919038008478109\n",
      "Val Loss:  0.00013194402\n",
      "Epoch:  15\n",
      "=========\n",
      "Train Loss:  0.00013488731331866196\n",
      "Val Loss:  0.00013687431\n",
      "Epoch:  16\n",
      "=========\n",
      "Train Loss:  0.00013459907394361735\n",
      "Val Loss:  0.00014963862\n",
      "Epoch:  17\n",
      "=========\n",
      "Train Loss:  0.00013459378757640176\n",
      "Val Loss:  0.00012236995\n",
      "Epoch:  18\n",
      "=========\n",
      "Train Loss:  0.00012986955977491258\n",
      "Val Loss:  0.00012283228\n",
      "Epoch:  19\n",
      "=========\n",
      "Train Loss:  0.00012995225458022712\n",
      "Val Loss:  0.00011215152\n",
      "Epoch:  20\n",
      "=========\n",
      "Train Loss:  0.00012696774867638143\n",
      "Val Loss:  0.000109182525\n",
      "Epoch:  21\n",
      "=========\n",
      "Train Loss:  0.00013062482880236024\n",
      "Val Loss:  0.000107473825\n",
      "Epoch:  22\n",
      "=========\n",
      "Train Loss:  0.00012944821081772615\n",
      "Val Loss:  0.00010562844\n",
      "Epoch:  23\n",
      "=========\n",
      "Train Loss:  0.00011086075643712926\n",
      "Val Loss:  0.000102881444\n",
      "Epoch:  24\n",
      "=========\n",
      "Train Loss:  0.00011108010292244014\n",
      "Val Loss:  0.00010291785\n",
      "Epoch:  25\n",
      "=========\n",
      "Train Loss:  0.00010432409625435766\n",
      "Val Loss:  9.595465e-05\n",
      "Epoch:  26\n",
      "=========\n",
      "Train Loss:  0.0001009843788273833\n",
      "Val Loss:  9.672959e-05\n",
      "Epoch:  27\n",
      "=========\n",
      "Train Loss:  0.00010423585482486589\n",
      "Val Loss:  8.994136e-05\n",
      "Epoch:  28\n",
      "=========\n",
      "Train Loss:  0.00010096742362293298\n",
      "Val Loss:  0.00010786609\n",
      "Epoch:  29\n",
      "=========\n",
      "Train Loss:  0.00011770272168279107\n",
      "Val Loss:  9.048171e-05\n",
      "Epoch:  30\n",
      "=========\n",
      "Train Loss:  0.00010475990038685267\n",
      "Val Loss:  0.000101427584\n"
     ]
    }
   ],
   "source": [
    "NUM_EPOCHS = 30\n",
    "\n",
    "for epoch in range(NUM_EPOCHS):\n",
    "    print('Epoch: ', epoch+1)\n",
    "    print('=========')\n",
    "    losses = []\n",
    "    \n",
    "    for X_c, X_p, X_t, X_ext, Y in train_iter:\n",
    "        outputs = st_resnet(X_c, X_p, X_t, X_ext)\n",
    "        loss = loss_fn(outputs, Y)\n",
    "        optimizer.zero_grad()\n",
    "        loss.backward()\n",
    "        optimizer.step()\n",
    "        losses.append(loss.item())\n",
    "        \n",
    "    train_loss = np.mean(losses)\n",
    "    print('Train Loss: ', train_loss)\n",
    "    val_loss = validate(st_resnet) \n",
    "    print('Val Loss: ', val_loss)"
   ]
  },
  {
   "cell_type": "code",
   "execution_count": 15,
   "id": "3733890d",
   "metadata": {
    "execution": {
     "iopub.execute_input": "2022-02-24T10:57:05.151416Z",
     "iopub.status.busy": "2022-02-24T10:57:05.149572Z",
     "iopub.status.idle": "2022-02-24T10:57:11.687680Z",
     "shell.execute_reply": "2022-02-24T10:57:11.687133Z"
    },
    "papermill": {
     "duration": 7.796442,
     "end_time": "2022-02-24T10:57:11.687837",
     "exception": false,
     "start_time": "2022-02-24T10:57:03.891395",
     "status": "completed"
    },
    "tags": []
   },
   "outputs": [],
   "source": [
    "st_resnet.eval()\n",
    "y_preds = list()\n",
    "y_true = list()\n",
    "with torch.no_grad():\n",
    "    for X_c, X_p, X_t, X_ext, y in test_iter:\n",
    "        y = y.cpu().numpy().reshape(-1)\n",
    "        y_pred = st_resnet(X_c, X_p, X_t, X_ext).view(len(y), -1).cpu().numpy().reshape(-1)\n",
    "        y *= maximum\n",
    "        y_pred *= maximum\n",
    "        y_preds.extend(list(y_pred))\n",
    "        y_true.extend(list(y))\n",
    "        \n",
    "y_preds = np.array(y_preds)\n",
    "y_true = np.array(y_true)"
   ]
  },
  {
   "cell_type": "code",
   "execution_count": 16,
   "id": "55ab440c",
   "metadata": {
    "execution": {
     "iopub.execute_input": "2022-02-24T10:57:14.243292Z",
     "iopub.status.busy": "2022-02-24T10:57:14.242552Z",
     "iopub.status.idle": "2022-02-24T10:57:15.439980Z",
     "shell.execute_reply": "2022-02-24T10:57:15.439367Z",
     "shell.execute_reply.started": "2022-02-24T10:18:09.760387Z"
    },
    "papermill": {
     "duration": 2.509336,
     "end_time": "2022-02-24T10:57:15.440140",
     "exception": false,
     "start_time": "2022-02-24T10:57:12.930804",
     "status": "completed"
    },
    "tags": []
   },
   "outputs": [
    {
     "name": "stdout",
     "output_type": "stream",
     "text": [
      "RMSE:  21.98225\n",
      "MAE:  12.668083\n",
      "MAPE:  42.381516098976135 %\n"
     ]
    }
   ],
   "source": [
    "\"\"\"Overall evaluation the predictions of the test data\"\"\"\n",
    "from sklearn.metrics import mean_squared_error\n",
    "from sklearn.metrics import mean_absolute_error\n",
    "\n",
    "def mean_absolute_percentage_error(y_true, y_pred): \n",
    "    y_true, y_pred = np.array(y_true), np.array(y_pred)\n",
    "    y_true +=  1\n",
    "    return np.mean(np.abs((y_true - y_pred) / y_true)) * 100\n",
    "\n",
    "print('RMSE: ', np.sqrt(mean_squared_error(y_true, y_preds)))\n",
    "print('MAE: ', mean_absolute_error(y_true, y_preds))\n",
    "print('MAPE: ', mean_absolute_percentage_error(y_true, y_preds), \"%\")"
   ]
  },
  {
   "cell_type": "code",
   "execution_count": 17,
   "id": "ea850eff",
   "metadata": {
    "execution": {
     "iopub.execute_input": "2022-02-24T10:57:17.967419Z",
     "iopub.status.busy": "2022-02-24T10:57:17.966694Z",
     "iopub.status.idle": "2022-02-24T10:57:19.257465Z",
     "shell.execute_reply": "2022-02-24T10:57:19.257956Z",
     "shell.execute_reply.started": "2022-02-24T10:18:12.999921Z"
    },
    "papermill": {
     "duration": 2.571356,
     "end_time": "2022-02-24T10:57:19.258142",
     "exception": false,
     "start_time": "2022-02-24T10:57:16.686786",
     "status": "completed"
    },
    "tags": []
   },
   "outputs": [
    {
     "data": {
      "image/png": "[encoded data removed]",
      "text/plain": [
       "<Figure size 1080x432 with 4 Axes>"
      ]
     },
     "metadata": {
      "needs_background": "light"
     },
     "output_type": "display_data"
    }
   ],
   "source": [
    "\"\"\"Prediction of inflow at certain time slice\"\"\"\n",
    "\n",
    "import matplotlib.pyplot as plt\n",
    "import seaborn as sns\n",
    "\n",
    "one_time_slice_inflow_true = y_true.reshape(4032, 2, 15, 5)[0, 0, :, :]\n",
    "one_time_slice_inflow_preds = y_preds.reshape(4032, 2, 15, 5)[0, 0, :, :]\n",
    "one_time_slice_inflow_preds = one_time_slice_inflow_preds.astype(int)\n",
    "fig, (ax1, ax2) = plt.subplots(1,2, figsize=(15,6))\n",
    "\n",
    "y_axis_labels = range(1,16)\n",
    "x_axis_labels = range(1,6)\n",
    "\n",
    "sns.heatmap(one_time_slice_inflow_preds, \n",
    "                 xticklabels=x_axis_labels, \n",
    "                 yticklabels=y_axis_labels, \n",
    "                 ax=ax1, annot=True)\n",
    "\n",
    "sns.heatmap(one_time_slice_inflow_true, \n",
    "                 xticklabels=x_axis_labels, \n",
    "                 yticklabels=y_axis_labels, \n",
    "                 ax=ax2, annot=True)\n",
    "\n",
    "ax2.set_title('True')\n",
    "ax1.set_title('Prediction')\n",
    "plt.show()"
   ]
  },
  {
   "cell_type": "markdown",
   "id": "5c2431fb",
   "metadata": {
    "papermill": {
     "duration": 1.249277,
     "end_time": "2022-02-24T10:57:21.753769",
     "exception": false,
     "start_time": "2022-02-24T10:57:20.504492",
     "status": "completed"
    },
    "tags": []
   },
   "source": [
    "# References:\n",
    "\n",
    "- https://github.com/Mouradost/ASTIR\n",
    "\n",
    "- https://github.com/BruceBinBoxing/ST-ResNet-Pytorch\n",
    "\n",
    "- Junbo Zhang, Yu Zheng, Dekang Qi, Deep Spatio-Temporal Residual Networks for Citywide Crowd Flows Prediction, 2017\n",
    "\n",
    "- https://github.com/snehasinghania/STResNet"
   ]
  }
 ],
 "metadata": {
  "kernelspec": {
   "display_name": "Python 3",
   "language": "python",
   "name": "python3"
  },
  "language_info": {
   "codemirror_mode": {
    "name": "ipython",
    "version": 3
   },
   "file_extension": ".py",
   "mimetype": "text/x-python",
   "name": "python",
   "nbconvert_exporter": "python",
   "pygments_lexer": "ipython3",
   "version": "3.7.12"
  },
  "papermill": {
   "default_parameters": {},
   "duration": 2293.602088,
   "end_time": "2022-02-24T10:57:24.015633",
   "environment_variables": {},
   "exception": null,
   "input_path": "__notebook__.ipynb",
   "output_path": "__notebook__.ipynb",
   "parameters": {},
   "start_time": "2022-02-24T10:19:10.413545",
   "version": "2.3.3"
  }
 },
 "nbformat": 4,
 "nbformat_minor": 5
}
